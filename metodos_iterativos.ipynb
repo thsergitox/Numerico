{
 "cells": [
  {
   "cell_type": "code",
   "outputs": [],
   "source": [
    "import numpy as np"
   ],
   "metadata": {
    "collapsed": false,
    "ExecuteTime": {
     "end_time": "2024-05-15T03:15:39.969176Z",
     "start_time": "2024-05-15T03:15:39.431534Z"
    }
   },
   "id": "6e729f578d33292b",
   "execution_count": 1
  },
  {
   "cell_type": "code",
   "outputs": [],
   "source": [
    "#METODO DE GAUSS-SIDEL\n",
    "\n",
    "def gauss_seidel(A, b, x0, tol, nmax):\n",
    "    n = len(b)\n",
    "    x = x0.copy()\n",
    "    for k in range(nmax):\n",
    "        for i in range(n):\n",
    "            s = 0\n",
    "            for j in range(n):\n",
    "                if j != i:\n",
    "                    s += A[i,j]*x[j]\n",
    "            x[i] = (b[i] - s)/A[i,i]\n",
    "        if np.linalg.norm(np.dot(A,x) - b) < tol:\n",
    "            break\n",
    "    return x\n"
   ],
   "metadata": {
    "collapsed": false,
    "ExecuteTime": {
     "end_time": "2024-05-15T03:16:04.704982Z",
     "start_time": "2024-05-15T03:16:04.699951Z"
    }
   },
   "id": "e54fe04ce96cf022",
   "execution_count": 3
  },
  {
   "cell_type": "code",
   "outputs": [
    {
     "name": "stdout",
     "output_type": "stream",
     "text": [
      "[1 0 0]\n"
     ]
    }
   ],
   "source": [
    "#EJEMPLO\n",
    "\n",
    "A = np.array([[4,1,2],[3,5,1],[1,1,3]])\n",
    "b = np.array([4,7,3])\n",
    "x0 = np.array([0,0,0])\n",
    "tol = 1e-6\n",
    "nmax = 1000\n",
    "\n",
    "x = gauss_seidel(A, b, x0, tol, nmax)\n",
    "print(x)"
   ],
   "metadata": {
    "collapsed": false,
    "ExecuteTime": {
     "end_time": "2024-05-15T03:16:06.572192Z",
     "start_time": "2024-05-15T03:16:06.555354Z"
    }
   },
   "id": "b3ffc124c06e68ef",
   "execution_count": 4
  },
  {
   "cell_type": "code",
   "outputs": [],
   "source": [
    "#METODO JACOBI\n",
    "\n",
    "def jacobi(A, b, x0, tol, nmax):\n",
    "    n = len(b)\n",
    "    x = x0.copy()\n",
    "    for k in range(nmax):\n",
    "        x_new = x.copy()\n",
    "        for i in range(n):\n",
    "            s = 0\n",
    "            for j in range(n):\n",
    "                if j != i:\n",
    "                    s += A[i,j]*x[j]\n",
    "            x_new[i] = (b[i] - s)/A[i,i]\n",
    "        x = x_new\n",
    "        if np.linalg.norm(np.dot(A,x) - b) < tol:\n",
    "            break\n",
    "    return x\n"
   ],
   "metadata": {
    "collapsed": false,
    "ExecuteTime": {
     "end_time": "2024-05-15T03:17:12.621163Z",
     "start_time": "2024-05-15T03:17:12.616612Z"
    }
   },
   "id": "c7cb37be6889343",
   "execution_count": 9
  },
  {
   "cell_type": "code",
   "outputs": [
    {
     "name": "stdout",
     "output_type": "stream",
     "text": [
      "[0 0 0]\n"
     ]
    }
   ],
   "source": [
    "A = np.array([[4,1,2],[3,5,1],[1,1,3]])\n",
    "b = np.array([4,7,3])\n",
    "x0 = np.array([0,0,0])\n",
    "tol = 1e-6\n",
    "nmax = 1000\n",
    "\n",
    "x = jacobi(A, b, x0, tol, nmax)\n",
    "print(x)\n"
   ],
   "metadata": {
    "collapsed": false,
    "ExecuteTime": {
     "end_time": "2024-05-15T03:17:10.806976Z",
     "start_time": "2024-05-15T03:17:10.792795Z"
    }
   },
   "id": "bf7f6b570d712298",
   "execution_count": 8
  }
 ],
 "metadata": {
  "kernelspec": {
   "display_name": "Python 3",
   "language": "python",
   "name": "python3"
  },
  "language_info": {
   "codemirror_mode": {
    "name": "ipython",
    "version": 2
   },
   "file_extension": ".py",
   "mimetype": "text/x-python",
   "name": "python",
   "nbconvert_exporter": "python",
   "pygments_lexer": "ipython2",
   "version": "2.7.6"
  }
 },
 "nbformat": 4,
 "nbformat_minor": 5
}
