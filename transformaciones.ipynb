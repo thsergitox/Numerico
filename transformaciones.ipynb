{
 "cells": [
  {
   "cell_type": "markdown",
   "source": [
    "# HouseHolder QR"
   ],
   "metadata": {
    "collapsed": false
   },
   "id": "36ac7243d0d190c4"
  },
  {
   "cell_type": "code",
   "execution_count": 18,
   "id": "initial_id",
   "metadata": {
    "collapsed": true,
    "ExecuteTime": {
     "end_time": "2024-05-29T14:26:10.435994Z",
     "start_time": "2024-05-29T14:26:10.428346Z"
    }
   },
   "outputs": [
    {
     "name": "stdout",
     "output_type": "stream",
     "text": [
      "Matriz H1:\n",
      "[[-0.08192319 -0.9830783  -0.16384638]\n",
      " [-0.9830783   0.10673608 -0.14887732]\n",
      " [-0.16384638 -0.14887732  0.97518711]]\n",
      "Matriz H2:\n",
      "[[ 1.          0.          0.        ]\n",
      " [ 0.         -0.0883807   0.99608677]\n",
      " [ 0.          0.99608677  0.0883807 ]]\n",
      "Matriz H3:\n",
      "[[ 1.  0.  0.]\n",
      " [ 0.  1.  0.]\n",
      " [ 0.  0. -1.]]\n",
      "Matriz Q:\n",
      "[[-0.08192319 -0.07632007  0.99371215]\n",
      " [-0.9830783  -0.15772814 -0.09316051]\n",
      " [-0.16384638  0.98452886  0.06210701]]\n",
      "Matriz R:\n",
      "[[-1.22065556e+01 -9.74885985e+00 -8.92962793e+00]\n",
      " [-8.34039447e-17 -2.63813031e+00 -1.49587331e+00]\n",
      " [-9.39996696e-16 -4.20874975e-16  1.55267524e-01]]\n"
     ]
    }
   ],
   "source": [
    "import numpy as np\n",
    "\n",
    "def householder_reflection(a):\n",
    "    \"\"\"\n",
    "    Computes the Householder reflection matrix for vector a.\n",
    "    \"\"\"\n",
    "    v = a.copy()\n",
    "    v[0] += np.sign(a[0]) * np.linalg.norm(a)\n",
    "    v = v / np.linalg.norm(v)\n",
    "    H = np.eye(len(a)) - 2 * np.outer(v, v)\n",
    "    return H\n",
    "\n",
    "def qr_decomposition(A):\n",
    "    \"\"\"\n",
    "    Computes the QR decomposition of matrix A using Householder reflections.\n",
    "    \"\"\"\n",
    "    m, n = A.shape\n",
    "    R = A.copy()\n",
    "    Q = np.eye(m)\n",
    "\n",
    "    for i in range(n):\n",
    "        # Extract the vector to be reflected\n",
    "        x = R[i:, i]\n",
    "        # Compute the Householder reflection matrix\n",
    "        H_i = np.eye(m)\n",
    "        H_i[i:, i:] = householder_reflection(x)\n",
    "        # Apply the Householder reflection\n",
    "        R = H_i @ R\n",
    "        Q = Q @ H_i.T\n",
    "        print(f\"Matriz H{i+1}:\")\n",
    "        print(H_i)\n",
    "\n",
    "    return Q, R\n",
    "\n",
    "# Ejemplo de uso\n",
    "A = np.array([[1, 1, 1], [12, 10, 9], [2, -1, 0]], dtype=float)\n",
    "Q, R = qr_decomposition(A)\n",
    "\n",
    "print(\"Matriz Q:\")\n",
    "print(Q)\n",
    "print(\"Matriz R:\")\n",
    "print(R)"
   ]
  },
  {
   "cell_type": "markdown",
   "source": [
    "# Givens QR"
   ],
   "metadata": {
    "collapsed": false
   },
   "id": "abbd713ded17c10c"
  },
  {
   "cell_type": "code",
   "outputs": [
    {
     "name": "stdout",
     "output_type": "stream",
     "text": [
      "Matriz G31:\n",
      "[[ 1.          0.          0.        ]\n",
      " [ 0.          0.98639392  0.16439899]\n",
      " [ 0.         -0.16439899  0.98639392]]\n",
      "Matriz G21:\n",
      "[[-0.08192319 -0.99663865  0.        ]\n",
      " [ 0.99663865 -0.08192319  0.        ]\n",
      " [ 0.          0.          1.        ]]\n",
      "Matriz G32:\n",
      "[[ 1.          0.          0.        ]\n",
      " [ 0.          0.07657747 -0.99706363]\n",
      " [ 0.          0.99706363  0.07657747]]\n",
      "Matriz Q:\n",
      "[[-0.08192319  0.07632007  0.99371215]\n",
      " [-0.9830783   0.15772814 -0.09316051]\n",
      " [-0.16384638 -0.98452886  0.06210701]]\n",
      "Matriz R:\n",
      "[[-1.22065556e+01 -9.74885985e+00 -8.92962793e+00]\n",
      " [-2.16366880e-16  2.63813031e+00  1.49587331e+00]\n",
      " [ 8.24401407e-17 -3.35563857e-17  1.55267524e-01]]\n"
     ]
    }
   ],
   "source": [
    "import numpy as np\n",
    "\n",
    "def givens_rotation(a, b):\n",
    "    \"\"\"\n",
    "    Computes the Givens rotation matrix elements c and s\n",
    "    such that applying the rotation to [a, b] results in [r, 0].\n",
    "    \"\"\"\n",
    "    if b == 0:\n",
    "        c = 1\n",
    "        s = 0\n",
    "    else:\n",
    "        if np.abs(b) > np.abs(a):\n",
    "            tau = -a / b\n",
    "            s = 1 / np.sqrt(1 + tau**2)\n",
    "            c = s * tau\n",
    "        else:\n",
    "            tau = -b / a\n",
    "            c = 1 / np.sqrt(1 + tau**2)\n",
    "            s = c * tau\n",
    "    return c, s\n",
    "\n",
    "def qr_decomposition_givens(A):\n",
    "    \"\"\"\n",
    "    Computes the QR decomposition of matrix A using Givens rotations.\n",
    "    \"\"\"\n",
    "    m, n = A.shape\n",
    "    Q = np.eye(m)\n",
    "    R = A.copy()\n",
    "\n",
    "    for j in range(n):\n",
    "        for i in range(m-1, j, -1):\n",
    "            G = np.eye(m)\n",
    "            c, s = givens_rotation(R[i-1, j], R[i, j])\n",
    "            G[[i-1, i], [i-1, i]] = c\n",
    "            G[i, i-1] = s\n",
    "            G[i-1, i] = -s\n",
    "            R = G @ R\n",
    "            Q = Q @ G.T\n",
    "            print(f\"Matriz G{i+1}{j+1}:\")\n",
    "            print(G)\n",
    "\n",
    "    return Q, R\n",
    "\n",
    "# Ejemplo de uso\n",
    "A = np.array([[1, 1, 1], [12, 10, 9], [2, -1, 0]], dtype=float)\n",
    "Q, R = qr_decomposition_givens(A)\n",
    "\n",
    "print(\"Matriz Q:\")\n",
    "print(Q)\n",
    "print(\"Matriz R:\")\n",
    "print(R)"
   ],
   "metadata": {
    "collapsed": false,
    "ExecuteTime": {
     "end_time": "2024-05-29T14:34:00.696910Z",
     "start_time": "2024-05-29T14:34:00.688795Z"
    }
   },
   "id": "3b99fd0d81b40ab2",
   "execution_count": 22
  },
  {
   "cell_type": "code",
   "outputs": [
    {
     "name": "stdout",
     "output_type": "stream",
     "text": [
      "[0.         0.         0.33333333]\n"
     ]
    }
   ],
   "source": [
    "# solucion regresiva \n",
    "\n",
    "def backward_substitution(A, b):\n",
    "    \"\"\"\n",
    "    Solves the upper triangular system Ax = b using backward substitution.\n",
    "    \"\"\"\n",
    "    n = len(b)\n",
    "    x = np.zeros(n)\n",
    "    for i in range(n-1, -1, -1):\n",
    "        x[i] = (b[i] - np.dot(A[i, i+1:], x[i+1:])) / A[i, i]\n",
    "    return x\n",
    "\n",
    "\n",
    "# Ejemplo de uso\n",
    "A = np.array([[1, 2, 3], [0, 5, 6], [0, 0, 9]], dtype=float)\n",
    "b = np.array([1, 2, 3], dtype=float)\n",
    "x = backward_substitution(A, b)\n",
    "\n",
    "print(x)"
   ],
   "metadata": {
    "collapsed": false,
    "ExecuteTime": {
     "end_time": "2024-05-29T14:35:29.717117Z",
     "start_time": "2024-05-29T14:35:29.711970Z"
    }
   },
   "id": "ffd86afc06b0d9ae",
   "execution_count": 23
  }
 ],
 "metadata": {
  "kernelspec": {
   "display_name": "Python 3",
   "language": "python",
   "name": "python3"
  },
  "language_info": {
   "codemirror_mode": {
    "name": "ipython",
    "version": 2
   },
   "file_extension": ".py",
   "mimetype": "text/x-python",
   "name": "python",
   "nbconvert_exporter": "python",
   "pygments_lexer": "ipython2",
   "version": "2.7.6"
  }
 },
 "nbformat": 4,
 "nbformat_minor": 5
}
