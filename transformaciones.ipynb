{
 "cells": [
  {
   "cell_type": "markdown",
   "source": [
    "# HouseHolder QR"
   ],
   "metadata": {
    "collapsed": false
   },
   "id": "36ac7243d0d190c4"
  },
  {
   "cell_type": "code",
   "outputs": [
    {
     "data": {
      "text/plain": "array([[ 2.00000000e+00,  2.00000000e+00,  0.00000000e+00],\n       [ 0.00000000e+00,  5.00000000e+00, -3.00000000e+00],\n       [ 0.00000000e+00, -2.22044605e-16,  4.00000000e+00]])"
     },
     "execution_count": 20,
     "metadata": {},
     "output_type": "execute_result"
    }
   ],
   "source": [
    "import numpy as np\n",
    "A = np.array([[2, 2, 0], [0, 4, 0], [0, -3, 5]], dtype=float)\n",
    "H = np.array([[1, 0,0],[0,0.8,-0.6],[0,0.6,0.8]])\n",
    "\n",
    "H@A"
   ],
   "metadata": {
    "collapsed": false,
    "ExecuteTime": {
     "end_time": "2024-05-29T16:38:52.913650Z",
     "start_time": "2024-05-29T16:38:52.905387Z"
    }
   },
   "id": "cef877c43e8a8cb9",
   "execution_count": 20
  },
  {
   "cell_type": "code",
   "execution_count": 17,
   "id": "initial_id",
   "metadata": {
    "collapsed": true,
    "ExecuteTime": {
     "end_time": "2024-05-29T16:18:32.059659Z",
     "start_time": "2024-05-29T16:18:32.051211Z"
    }
   },
   "outputs": [
    {
     "name": "stdout",
     "output_type": "stream",
     "text": [
      "v = [4. 2. 2.]\n",
      "Matriz R1:\n",
      "[[-3.00000000e+00 -2.00000000e+00]\n",
      " [-6.66133815e-16  4.00000000e+00]\n",
      " [-6.66133815e-16  3.00000000e+00]]\n",
      "Matriz H1:\n",
      "[[-0.33333333 -0.66666667 -0.66666667]\n",
      " [-0.66666667  0.66666667 -0.33333333]\n",
      " [-0.66666667 -0.33333333  0.66666667]]\n",
      "v = [9. 3.]\n",
      "Matriz R2:\n",
      "[[-3.00000000e+00 -2.00000000e+00]\n",
      " [ 9.32587341e-16 -5.00000000e+00]\n",
      " [-1.33226763e-16  2.22044605e-16]]\n",
      "Matriz H2:\n",
      "[[ 1.   0.   0. ]\n",
      " [ 0.  -0.8 -0.6]\n",
      " [ 0.  -0.6  0.8]]\n",
      "Matriz Q:\n",
      "[[-0.33333333  0.93333333 -0.13333333]\n",
      " [-0.66666667 -0.33333333 -0.66666667]\n",
      " [-0.66666667 -0.13333333  0.73333333]]\n",
      "Matriz R:\n",
      "[[-3.00000000e+00 -2.00000000e+00]\n",
      " [ 9.32587341e-16 -5.00000000e+00]\n",
      " [-1.33226763e-16  2.22044605e-16]]\n"
     ]
    }
   ],
   "source": [
    "import numpy as np\n",
    "\n",
    "def householder_reflection(a):\n",
    "    \"\"\"\n",
    "    Computes the Householder reflection matrix for vector a.\n",
    "    \"\"\"\n",
    "    v = a.copy()\n",
    "    v[0] += np.sign(a[0]) * np.linalg.norm(a)\n",
    "    print(f\"v = {v}\")\n",
    "    v = v / np.linalg.norm(v)\n",
    "    H = np.eye(len(a)) - 2 * np.outer(v, v)\n",
    "    return H\n",
    "\n",
    "def qr_decomposition(A):\n",
    "    \"\"\"\n",
    "    Computes the QR decomposition of matrix A using Householder reflections.\n",
    "    \"\"\"\n",
    "    m, n = A.shape\n",
    "    R = A.copy()\n",
    "    Q = np.eye(m)\n",
    "\n",
    "    for i in range(n):\n",
    "        # Extract the vector to be reflected\n",
    "        x = R[i:, i]\n",
    "        # Compute the Householder reflection matrix\n",
    "        H_i = np.eye(m)\n",
    "        H_i[i:, i:] = householder_reflection(x)\n",
    "        # Apply the Householder reflection\n",
    "        R = H_i @ R\n",
    "        Q = Q @ H_i.T\n",
    "        print(f\"Matriz R{i+1}:\")\n",
    "        print(R)\n",
    "        print(f\"Matriz H{i+1}:\")\n",
    "        print(H_i)\n",
    "        \n",
    "        \n",
    "    return Q, R\n",
    "\n",
    "# Ejemplo de uso\n",
    "A = np.array([[1, -4], [2, 3], [2, 2]], dtype=float)\n",
    "Q, R = qr_decomposition(A)\n",
    "\n",
    "print(\"Matriz Q:\")\n",
    "print(Q)\n",
    "print(\"Matriz R:\")\n",
    "print(R)"
   ]
  },
  {
   "cell_type": "markdown",
   "source": [
    "# Givens QR"
   ],
   "metadata": {
    "collapsed": false
   },
   "id": "abbd713ded17c10c"
  },
  {
   "cell_type": "code",
   "outputs": [
    {
     "name": "stdout",
     "output_type": "stream",
     "text": [
      "Matriz G31:\n",
      "[[1. 0. 0.]\n",
      " [0. 1. 0.]\n",
      " [0. 0. 1.]]\n",
      "Matriz G21:\n",
      "[[1. 0. 0.]\n",
      " [0. 1. 0.]\n",
      " [0. 0. 1.]]\n",
      "Matriz G32:\n",
      "[[ 1.   0.   0. ]\n",
      " [ 0.   0.8 -0.6]\n",
      " [ 0.   0.6  0.8]]\n",
      "Matriz Q:\n",
      "[[ 1.   0.   0. ]\n",
      " [ 0.   0.8  0.6]\n",
      " [ 0.  -0.6  0.8]]\n",
      "Matriz R:\n",
      "[[ 2.00000000e+00  2.00000000e+00  0.00000000e+00]\n",
      " [ 0.00000000e+00  5.00000000e+00 -3.00000000e+00]\n",
      " [ 0.00000000e+00  2.22044605e-16  4.00000000e+00]]\n"
     ]
    }
   ],
   "source": [
    "import numpy as np\n",
    "\n",
    "def givens_rotation(a, b):\n",
    "    \"\"\"\n",
    "    Computes the Givens rotation matrix elements c and s\n",
    "    such that applying the rotation to [a, b] results in [r, 0].\n",
    "    \"\"\"\n",
    "    if b == 0:\n",
    "        c = 1\n",
    "        s = 0\n",
    "    else:\n",
    "        if np.abs(b) > np.abs(a):\n",
    "            tau = -a / b\n",
    "            s = 1 / np.sqrt(1 + tau**2)\n",
    "            c = s * tau\n",
    "        else:\n",
    "            tau = -b / a\n",
    "            c = 1 / np.sqrt(1 + tau**2)\n",
    "            s = c * tau\n",
    "    return c, s\n",
    "\n",
    "def qr_decomposition_givens(A):\n",
    "    \"\"\"\n",
    "    Computes the QR decomposition of matrix A using Givens rotations.\n",
    "    \"\"\"\n",
    "    m, n = A.shape\n",
    "    Q = np.eye(m)\n",
    "    R = A.copy()\n",
    "\n",
    "    for j in range(n):\n",
    "        for i in range(m-1, j, -1):\n",
    "            G = np.eye(m)\n",
    "            c, s = givens_rotation(R[i-1, j], R[i, j])\n",
    "            G[[i-1, i], [i-1, i]] = c\n",
    "            G[i, i-1] = s\n",
    "            G[i-1, i] = -s\n",
    "            R = G @ R\n",
    "            Q = Q @ G.T\n",
    "            print(f\"Matriz G{i+1}{j+1}:\")\n",
    "            print(G)\n",
    "\n",
    "    return Q, R\n",
    "\n",
    "# Ejemplo de uso\n",
    "A = np.array([[2, 2, 0], [0, 4, 0], [0, -3, 5]], dtype=float)\n",
    "Q, R = qr_decomposition_givens(A)\n",
    "\n",
    "print(\"Matriz Q:\")\n",
    "print(Q)\n",
    "print(\"Matriz R:\")\n",
    "print(R)"
   ],
   "metadata": {
    "collapsed": false,
    "ExecuteTime": {
     "end_time": "2024-05-29T16:35:52.369884Z",
     "start_time": "2024-05-29T16:35:52.356650Z"
    }
   },
   "id": "3b99fd0d81b40ab2",
   "execution_count": 18
  },
  {
   "cell_type": "code",
   "outputs": [],
   "source": [],
   "metadata": {
    "collapsed": false
   },
   "id": "f2fdb5ca0795e2db"
  },
  {
   "cell_type": "code",
   "outputs": [
    {
     "ename": "IndexError",
     "evalue": "index 4 is out of bounds for axis 0 with size 3",
     "output_type": "error",
     "traceback": [
      "\u001B[1;31m---------------------------------------------------------------------------\u001B[0m",
      "\u001B[1;31mIndexError\u001B[0m                                Traceback (most recent call last)",
      "Cell \u001B[1;32mIn[4], line 9\u001B[0m\n\u001B[0;32m      6\u001B[0m b \u001B[38;5;241m=\u001B[39m np\u001B[38;5;241m.\u001B[39marray([\u001B[38;5;241m7\u001B[39m, \u001B[38;5;241m9\u001B[39m, \u001B[38;5;241m10\u001B[39m, \u001B[38;5;241m11\u001B[39m, \u001B[38;5;241m12\u001B[39m])\n\u001B[0;32m      7\u001B[0m bn \u001B[38;5;241m=\u001B[39m A\u001B[38;5;241m.\u001B[39mT\u001B[38;5;129m@b\u001B[39m\n\u001B[1;32m----> 9\u001B[0m x \u001B[38;5;241m=\u001B[39m \u001B[43mbackward_substitution\u001B[49m\u001B[43m(\u001B[49m\u001B[43mAn\u001B[49m\u001B[43m,\u001B[49m\u001B[43m \u001B[49m\u001B[43mb\u001B[49m\u001B[43m)\u001B[49m\n\u001B[0;32m     11\u001B[0m \u001B[38;5;66;03m# Inversa de una matriz\u001B[39;00m\n",
      "Cell \u001B[1;32mIn[2], line 10\u001B[0m, in \u001B[0;36mbackward_substitution\u001B[1;34m(A, b)\u001B[0m\n\u001B[0;32m      8\u001B[0m x \u001B[38;5;241m=\u001B[39m np\u001B[38;5;241m.\u001B[39mzeros(n)\n\u001B[0;32m      9\u001B[0m \u001B[38;5;28;01mfor\u001B[39;00m i \u001B[38;5;129;01min\u001B[39;00m \u001B[38;5;28mrange\u001B[39m(n\u001B[38;5;241m-\u001B[39m\u001B[38;5;241m1\u001B[39m, \u001B[38;5;241m-\u001B[39m\u001B[38;5;241m1\u001B[39m, \u001B[38;5;241m-\u001B[39m\u001B[38;5;241m1\u001B[39m):\n\u001B[1;32m---> 10\u001B[0m     x[i] \u001B[38;5;241m=\u001B[39m (b[i] \u001B[38;5;241m-\u001B[39m np\u001B[38;5;241m.\u001B[39mdot(\u001B[43mA\u001B[49m\u001B[43m[\u001B[49m\u001B[43mi\u001B[49m\u001B[43m,\u001B[49m\u001B[43m \u001B[49m\u001B[43mi\u001B[49m\u001B[38;5;241;43m+\u001B[39;49m\u001B[38;5;241;43m1\u001B[39;49m\u001B[43m:\u001B[49m\u001B[43m]\u001B[49m, x[i\u001B[38;5;241m+\u001B[39m\u001B[38;5;241m1\u001B[39m:])) \u001B[38;5;241m/\u001B[39m A[i, i]\n\u001B[0;32m     11\u001B[0m \u001B[38;5;28;01mreturn\u001B[39;00m x\n",
      "\u001B[1;31mIndexError\u001B[0m: index 4 is out of bounds for axis 0 with size 3"
     ]
    }
   ],
   "source": [
    "import numpy as np\n",
    "\n",
    "A = np.array([[1, 1, 1], [1, 1, 2], [1, 2, 1], [1, 2, 2], [1, 2, 3]])\n",
    "An = A.T@A\n",
    "\n",
    "b = np.array([7, 9, 10, 11, 12])\n",
    "bn = A.T@b\n",
    "\n",
    "x = backward_substitution(An, b)\n",
    "\n",
    "# Inversa de una matriz\n",
    "\n"
   ],
   "metadata": {
    "collapsed": false,
    "ExecuteTime": {
     "end_time": "2024-05-29T15:38:25.960934Z",
     "start_time": "2024-05-29T15:38:25.933628Z"
    }
   },
   "id": "9138760f35b056f8",
   "execution_count": 4
  },
  {
   "cell_type": "code",
   "outputs": [
    {
     "name": "stdout",
     "output_type": "stream",
     "text": [
      "[0.00902256 0.61278195 4.89473684]\n"
     ]
    }
   ],
   "source": [
    "# solucion regresiva \n",
    "import numpy as np\n",
    "def backward_substitution(A, b):\n",
    "    \"\"\"\n",
    "    Solves the upper triangular system Ax = b using backward substitution.\n",
    "    \"\"\"\n",
    "    n = len(b)\n",
    "    x = np.zeros(n)\n",
    "    for i in range(n-1, -1, -1):\n",
    "        x[i] = (b[i] - np.dot(A[i, i+1:], x[i+1:])) / A[i, i]\n",
    "    return x\n",
    "\n",
    "\n",
    "\n",
    "A = np.array([[1, 1, 1], [1, 1, 2], [1, 2, 1], [1, 2, 2], [1, 2, 3]])\n",
    "An = A.T@A\n",
    "\n",
    "b = np.array([7, 9, 10, 11, 12])\n",
    "bn = A.T@b\n",
    "\n",
    "x = backward_substitution(An, bn)\n",
    "print(x)\n",
    "\n",
    "\n",
    "\n",
    "\n",
    "\n",
    "\n",
    "\n"
   ],
   "metadata": {
    "collapsed": false,
    "ExecuteTime": {
     "end_time": "2024-05-29T15:45:14.275609Z",
     "start_time": "2024-05-29T15:45:14.268093Z"
    }
   },
   "id": "ffd86afc06b0d9ae",
   "execution_count": 7
  },
  {
   "cell_type": "code",
   "outputs": [
    {
     "data": {
      "text/plain": "array([[ 5,  8,  9],\n       [ 8, 14, 15],\n       [ 9, 15, 19]])"
     },
     "execution_count": 8,
     "metadata": {},
     "output_type": "execute_result"
    }
   ],
   "source": [
    "An"
   ],
   "metadata": {
    "collapsed": false,
    "ExecuteTime": {
     "end_time": "2024-05-29T15:45:30.698088Z",
     "start_time": "2024-05-29T15:45:30.689877Z"
    }
   },
   "id": "88e533db924a7d2e",
   "execution_count": 8
  },
  {
   "cell_type": "code",
   "outputs": [
    {
     "data": {
      "text/plain": "array([49, 82, 93])"
     },
     "execution_count": 9,
     "metadata": {},
     "output_type": "execute_result"
    }
   ],
   "source": [
    "bn"
   ],
   "metadata": {
    "collapsed": false,
    "ExecuteTime": {
     "end_time": "2024-05-29T15:45:40.484936Z",
     "start_time": "2024-05-29T15:45:40.478445Z"
    }
   },
   "id": "ef42c0a213dcc0e9",
   "execution_count": 9
  },
  {
   "cell_type": "code",
   "outputs": [
    {
     "ename": "IndexError",
     "evalue": "index 4 is out of bounds for axis 0 with size 3",
     "output_type": "error",
     "traceback": [
      "\u001B[1;31m---------------------------------------------------------------------------\u001B[0m",
      "\u001B[1;31mIndexError\u001B[0m                                Traceback (most recent call last)",
      "Cell \u001B[1;32mIn[5], line 7\u001B[0m\n\u001B[0;32m      4\u001B[0m b \u001B[38;5;241m=\u001B[39m np\u001B[38;5;241m.\u001B[39marray([\u001B[38;5;241m7\u001B[39m, \u001B[38;5;241m9\u001B[39m, \u001B[38;5;241m10\u001B[39m, \u001B[38;5;241m11\u001B[39m, \u001B[38;5;241m12\u001B[39m])\n\u001B[0;32m      5\u001B[0m bn \u001B[38;5;241m=\u001B[39m A\u001B[38;5;241m.\u001B[39mT\u001B[38;5;129m@b\u001B[39m\n\u001B[1;32m----> 7\u001B[0m x \u001B[38;5;241m=\u001B[39m \u001B[43mbackward_substitution\u001B[49m\u001B[43m(\u001B[49m\u001B[43mAn\u001B[49m\u001B[43m,\u001B[49m\u001B[43m \u001B[49m\u001B[43mb\u001B[49m\u001B[43m)\u001B[49m\n\u001B[0;32m      8\u001B[0m \u001B[38;5;28mprint\u001B[39m(x)\n",
      "Cell \u001B[1;32mIn[2], line 10\u001B[0m, in \u001B[0;36mbackward_substitution\u001B[1;34m(A, b)\u001B[0m\n\u001B[0;32m      8\u001B[0m x \u001B[38;5;241m=\u001B[39m np\u001B[38;5;241m.\u001B[39mzeros(n)\n\u001B[0;32m      9\u001B[0m \u001B[38;5;28;01mfor\u001B[39;00m i \u001B[38;5;129;01min\u001B[39;00m \u001B[38;5;28mrange\u001B[39m(n\u001B[38;5;241m-\u001B[39m\u001B[38;5;241m1\u001B[39m, \u001B[38;5;241m-\u001B[39m\u001B[38;5;241m1\u001B[39m, \u001B[38;5;241m-\u001B[39m\u001B[38;5;241m1\u001B[39m):\n\u001B[1;32m---> 10\u001B[0m     x[i] \u001B[38;5;241m=\u001B[39m (b[i] \u001B[38;5;241m-\u001B[39m np\u001B[38;5;241m.\u001B[39mdot(\u001B[43mA\u001B[49m\u001B[43m[\u001B[49m\u001B[43mi\u001B[49m\u001B[43m,\u001B[49m\u001B[43m \u001B[49m\u001B[43mi\u001B[49m\u001B[38;5;241;43m+\u001B[39;49m\u001B[38;5;241;43m1\u001B[39;49m\u001B[43m:\u001B[49m\u001B[43m]\u001B[49m, x[i\u001B[38;5;241m+\u001B[39m\u001B[38;5;241m1\u001B[39m:])) \u001B[38;5;241m/\u001B[39m A[i, i]\n\u001B[0;32m     11\u001B[0m \u001B[38;5;28;01mreturn\u001B[39;00m x\n",
      "\u001B[1;31mIndexError\u001B[0m: index 4 is out of bounds for axis 0 with size 3"
     ]
    }
   ],
   "source": [
    "# graficar el plano obtenido con los valores x con matplotlib\n",
    "\n",
    "\n"
   ],
   "metadata": {
    "collapsed": false,
    "ExecuteTime": {
     "end_time": "2024-05-29T15:38:44.757825Z",
     "start_time": "2024-05-29T15:38:44.730984Z"
    }
   },
   "id": "cb9eaca364b1f4c1",
   "execution_count": 5
  }
 ],
 "metadata": {
  "kernelspec": {
   "display_name": "Python 3",
   "language": "python",
   "name": "python3"
  },
  "language_info": {
   "codemirror_mode": {
    "name": "ipython",
    "version": 2
   },
   "file_extension": ".py",
   "mimetype": "text/x-python",
   "name": "python",
   "nbconvert_exporter": "python",
   "pygments_lexer": "ipython2",
   "version": "2.7.6"
  }
 },
 "nbformat": 4,
 "nbformat_minor": 5
}
