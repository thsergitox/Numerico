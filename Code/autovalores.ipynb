{
 "cells": [
  {
   "cell_type": "markdown",
   "source": [
    "# Metodo de la potencia"
   ],
   "metadata": {
    "collapsed": false
   },
   "id": "d26cdbb8f8de6abe"
  },
  {
   "cell_type": "code",
   "execution_count": 43,
   "id": "initial_id",
   "metadata": {
    "collapsed": true,
    "ExecuteTime": {
     "end_time": "2024-06-12T07:31:54.783031Z",
     "start_time": "2024-06-12T07:31:54.776309Z"
    }
   },
   "outputs": [
    {
     "name": "stdout",
     "output_type": "stream",
     "text": [
      "b: [0.83205029 0.5547002 ]\n",
      "b: [0.73994007 0.67267279]\n",
      "b: [0.71537618 0.69873952]\n",
      "b: [0.70917736 0.70503012]\n",
      "b: [0.70762462 0.70658856]\n",
      "b: [0.70723625 0.70697729]\n",
      "Autovalor dominante: 4.000183016044049\n",
      "Autovector correspondiente: [0.70723625 0.70697729]\n"
     ]
    }
   ],
   "source": [
    "import numpy as np\n",
    "\n",
    "def power_method(A, tol=1e-6, max_iter=6):\n",
    "    n, m = A.shape\n",
    "    b = np.array([1, 0])\n",
    "    b = b / np.linalg.norm(b)\n",
    "    \n",
    "    for _ in range(max_iter):\n",
    "        b_old = b.copy()\n",
    "        b = np.dot(A, b)\n",
    "        \n",
    "        b = b / np.linalg.norm(b)\n",
    "        \n",
    "        print(f\"b: {b}\")\n",
    "        \n",
    "        if np.linalg.norm(b - b_old) < tol:\n",
    "            break\n",
    "    \n",
    "    lambda_ = np.dot(b.T, np.dot(A, b))\n",
    "    return lambda_, b\n",
    "\n",
    "# Ejemplo de uso\n",
    "A = np.array([[3, 1], [2, 2]])\n",
    "lambda_, b = power_method(A)\n",
    "print(f\"Autovalor dominante: {lambda_}\")\n",
    "print(f\"Autovector correspondiente: {b}\")\n"
   ]
  },
  {
   "cell_type": "markdown",
   "source": [
    "# Metodo de la potencia escalonada"
   ],
   "metadata": {
    "collapsed": false
   },
   "id": "5ea07840cb1db463"
  },
  {
   "cell_type": "code",
   "outputs": [
    {
     "name": "stdout",
     "output_type": "stream",
     "text": [
      "Iteración 0: mu = 2, b = [1.  0.5 0.5]\n",
      "Iteración 1: mu = 3.0, b = [1.         0.16666667 0.83333333]\n",
      "Iteración 2: mu = 3.666666666666667, b = [1.         0.04545455 0.95454545]\n",
      "Iteración 3: mu = 3.909090909090909, b = [1.         0.01162791 0.98837209]\n",
      "Iteración 4: mu = 3.9767441860465116, b = [1.         0.00292398 0.99707602]\n",
      "Iteración 5: mu = 3.9941520467836256, b = [1.00000000e+00 7.32064422e-04 9.99267936e-01]\n",
      "Iteración 6: mu = 3.998535871156662, b = [1.00000000e+00 1.83083120e-04 9.99816917e-01]\n",
      "Iteración 7: mu = 3.999633833760527, b = [1.00000000e+00 4.57749702e-05 9.99954225e-01]\n",
      "Iteración 8: mu = 3.9999084500595075, b = [1.00000000e+00 1.14440045e-05 9.99988556e-01]\n",
      "Iteración 9: mu = 3.9999771119910275, b = [1.00000000e+00 2.86101749e-06 9.99997139e-01]\n",
      "Iteración 10: mu = 3.9999942779650155, b = [1.00000000e+00 7.15255396e-07 9.99999285e-01]\n",
      "Autovalor dominante: 3.9999985694892075\n",
      "Autovector correspondiente: [1.00000000e+00 1.78813913e-07 9.99999821e-01]\n"
     ]
    }
   ],
   "source": [
    "import numpy as np\n",
    "\n",
    "def power_method_with_scaling(A, tol=1e-5, max_iter=1000):\n",
    "    n, m = A.shape\n",
    "    x = np.array([1,1,0])\n",
    "    x = np.dot(A, x)\n",
    "    x_max = np.max(np.abs(x))\n",
    "    \n",
    "    x = x / x_max\n",
    "    x_before = x_max\n",
    "    print(f\"Iteración {0}: mu = {x_max}, b = {x}\")\n",
    "    \n",
    "    for k in range(max_iter):\n",
    "        \n",
    "        x = np.dot(A, x)\n",
    "        x_max = np.max(np.abs(x))\n",
    "        \n",
    "        x = x / x_max\n",
    "        \n",
    "                \n",
    "        if (x_max - x_before) < tol:\n",
    "            break\n",
    "    \n",
    "        x_before = x_max      \n",
    "        print(f\"Iteración {k+1}: mu = {x_max}, b = {x}\")\n",
    "    \n",
    "    return x_max, x\n",
    "\n",
    "# Ejemplo de uso\n",
    "A = np.array([[2, 0, 2], [-1, 2, 1], [0, 1, 4]])\n",
    "lambda_, b = power_method_with_scaling(A)\n",
    "print(f\"Autovalor dominante: {lambda_}\")\n",
    "print(f\"Autovector correspondiente: {b}\")\n"
   ],
   "metadata": {
    "collapsed": false,
    "ExecuteTime": {
     "end_time": "2024-06-12T07:54:07.239983Z",
     "start_time": "2024-06-12T07:54:07.232028Z"
    }
   },
   "id": "224c8f7a461fe3c9",
   "execution_count": 54
  },
  {
   "cell_type": "markdown",
   "source": [
    "# Metodo de la potencia inversa"
   ],
   "metadata": {
    "collapsed": false
   },
   "id": "5d73dfce36e7231d"
  },
  {
   "cell_type": "code",
   "outputs": [
    {
     "name": "stdout",
     "output_type": "stream",
     "text": [
      "Autovalor más pequeño: -0.33892170647767145\n",
      "Autovector correspondiente: [-0.42509024  0.82915294 -0.36304778]\n"
     ]
    }
   ],
   "source": [
    "def inverse_power_method(A, tol=1e-6, max_iter=1000):\n",
    "    n, m = A.shape\n",
    "    b = np.random.rand(n)\n",
    "    b = b / np.linalg.norm(b)\n",
    "    \n",
    "    for _ in range(max_iter):\n",
    "        b_old = b.copy()\n",
    "        b = np.linalg.solve(A, b)\n",
    "        b = b / np.linalg.norm(b)\n",
    "        \n",
    "        if np.linalg.norm(b - b_old) < tol:\n",
    "            break\n",
    "    \n",
    "    lambda_ = np.dot(b.T, np.dot(A, b))\n",
    "    return lambda_, b\n",
    "\n",
    "\n",
    "A = np.array([[1, 2, 3], [2, 2, 3], [3, 3, 3]])\n",
    "\n",
    "\n",
    "# Ejemplo de uso\n",
    "lambda_, b = inverse_power_method(A)\n",
    "print(f\"Autovalor más pequeño: {lambda_}\")\n",
    "print(f\"Autovector correspondiente: {b}\")\n"
   ],
   "metadata": {
    "collapsed": false,
    "ExecuteTime": {
     "end_time": "2024-06-12T08:03:06.473261Z",
     "start_time": "2024-06-12T08:03:06.447199Z"
    }
   },
   "id": "59d634384fd13ad2",
   "execution_count": 62
  },
  {
   "cell_type": "markdown",
   "source": [
    "# Metodo de la potencia con desplazamiento"
   ],
   "metadata": {
    "collapsed": false
   },
   "id": "232a0ecc3c69904d"
  },
  {
   "cell_type": "code",
   "outputs": [
    {
     "name": "stdout",
     "output_type": "stream",
     "text": [
      "Autovalor cercano a 5: 7.516538485191353\n",
      "Autovector correspondiente: [0.48273956 0.5469629  0.68395475]\n"
     ]
    }
   ],
   "source": [
    "def shifted_power_method(A, mu, tol=1e-6, max_iter=1000):\n",
    "    n, m = A.shape\n",
    "    I = np.eye(n)\n",
    "    b = np.random.rand(n)\n",
    "    b = b / np.linalg.norm(b)\n",
    "    \n",
    "    for _ in range(max_iter):\n",
    "        b_old = b.copy()\n",
    "        b = np.linalg.solve(A - mu * I, b)\n",
    "        b = b / np.linalg.norm(b)\n",
    "        \n",
    "        if np.linalg.norm(b - b_old) < tol:\n",
    "            break\n",
    "    \n",
    "    lambda_ = np.dot(b.T, np.dot(A, b))\n",
    "    return lambda_, b\n",
    "\n",
    "A = np.array([[1, 2, 3], [2, 2, 3], [3, 3, 3]])\n",
    "\n",
    "\n",
    "# Ejemplo de uso\n",
    "mu = 5\n",
    "lambda_, b = shifted_power_method(A, mu)\n",
    "print(f\"Autovalor cercano a {mu}: {lambda_}\")\n",
    "print(f\"Autovector correspondiente: {b}\")\n"
   ],
   "metadata": {
    "collapsed": false,
    "ExecuteTime": {
     "end_time": "2024-06-12T08:10:15.301256Z",
     "start_time": "2024-06-12T08:10:15.294640Z"
    }
   },
   "id": "40bab9cfba43809c",
   "execution_count": 67
  },
  {
   "cell_type": "markdown",
   "source": [
    "# QR Francis"
   ],
   "metadata": {
    "collapsed": false
   },
   "id": "e862265e6becee86"
  },
  {
   "cell_type": "code",
   "outputs": [
    {
     "name": "stdout",
     "output_type": "stream",
     "text": [
      "A0: \n",
      "[[ 7.         -1.94145069  0.66712438]\n",
      " [-1.94145069 -0.53846154  0.18502701]\n",
      " [ 0.66712438  0.18502701 -0.46153846]]\n",
      "A1: \n",
      "[[ 7.5033557   0.33650203  0.03441879]\n",
      " [ 0.33650203 -1.1474235  -0.11736312]\n",
      " [ 0.03441879 -0.11736312 -0.3559322 ]]\n",
      "A2: \n",
      "[[ 7.51621499e+00 -5.30082384e-02  1.56785729e-03]\n",
      " [-5.30082384e-02 -1.17584809e+00  3.47787828e-02]\n",
      " [ 1.56785729e-03  3.47787828e-02 -3.40366900e-01]]\n",
      "A3: \n",
      "[[ 7.51653055e+00  8.30789298e-03  7.07521151e-05]\n",
      " [ 8.30789298e-03 -1.17748892e+00 -1.00277931e-02]\n",
      " [ 7.07521151e-05 -1.00277931e-02 -3.39041621e-01]]\n",
      "A4: \n",
      "[[ 7.51653829e+00 -1.30163574e-03  3.19043277e-06]\n",
      " [-1.30163574e-03 -1.17760665e+00  2.88642570e-03]\n",
      " [ 3.19043277e-06  2.88642570e-03 -3.38931640e-01]]\n",
      "A5: \n",
      "[[ 7.51653848e+00  2.03927866e-04  1.43857816e-07]\n",
      " [ 2.03927866e-04 -1.17761595e+00 -8.30731283e-04]\n",
      " [ 1.43857815e-07 -8.30731283e-04 -3.38922529e-01]]\n",
      "A6: \n",
      "[[ 7.51653849e+00 -3.19494037e-05  6.48657027e-09]\n",
      " [-3.19494037e-05 -1.17761671e+00  2.39087217e-04]\n",
      " [ 6.48657068e-09  2.39087217e-04 -3.38921775e-01]]\n",
      "A7: \n",
      "[[ 7.51653849e+00  5.00551611e-06  2.92480739e-10]\n",
      " [ 5.00551611e-06 -1.17761677e+00 -6.88100366e-05]\n",
      " [ 2.92480334e-10 -6.88100366e-05 -3.38921712e-01]]\n",
      "A8: \n",
      "[[ 7.51653849e+00 -7.84214673e-07  1.31875715e-11]\n",
      " [-7.84214673e-07 -1.17761678e+00  1.98037389e-05]\n",
      " [ 1.31879767e-11  1.98037389e-05 -3.38921707e-01]]\n",
      "A9: \n",
      "[[ 7.51653849e+00  1.22862985e-07  5.95052769e-13]\n",
      " [ 1.22862985e-07 -1.17761678e+00 -5.69957655e-06]\n",
      " [ 5.94647599e-13 -5.69957655e-06 -3.38921707e-01]]\n",
      "Autovalores: [ 7.51653849 -1.17761678 -0.33892171]\n"
     ]
    }
   ],
   "source": [
    "import numpy as np\n",
    "\n",
    "def qr_algorithm(A, tol=1e-5, max_iter=1000):\n",
    "    n, m = A.shape\n",
    "    Ak = A.copy()\n",
    "    \n",
    "    for i in range(max_iter):\n",
    "        Q, R = np.linalg.qr(Ak)\n",
    "        Ak = np.dot(R, Q)\n",
    "        \n",
    "        print(f\"A{i}: \")\n",
    "        print(Ak)\n",
    "        \n",
    "        if np.allclose(Ak, np.triu(Ak), atol=tol):\n",
    "            break\n",
    "    \n",
    "    return np.diag(Ak)\n",
    "\n",
    "A = np.array([[1, 2, 3], [2, 2, 3], [3, 3, 3]])\n",
    "\n",
    "# Ejemplo de uso\n",
    "eigenvalues = qr_algorithm(A)\n",
    "print(f\"Autovalores: {eigenvalues}\")\n"
   ],
   "metadata": {
    "collapsed": false,
    "ExecuteTime": {
     "end_time": "2024-06-12T07:57:06.477612Z",
     "start_time": "2024-06-12T07:57:06.469204Z"
    }
   },
   "id": "4afb94745f2b6b28",
   "execution_count": 59
  }
 ],
 "metadata": {
  "kernelspec": {
   "display_name": "Python 3",
   "language": "python",
   "name": "python3"
  },
  "language_info": {
   "codemirror_mode": {
    "name": "ipython",
    "version": 2
   },
   "file_extension": ".py",
   "mimetype": "text/x-python",
   "name": "python",
   "nbconvert_exporter": "python",
   "pygments_lexer": "ipython2",
   "version": "2.7.6"
  }
 },
 "nbformat": 4,
 "nbformat_minor": 5
}
