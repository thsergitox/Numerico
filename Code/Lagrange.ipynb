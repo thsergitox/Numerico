{
 "cells": [
  {
   "cell_type": "markdown",
   "metadata": {},
   "source": [
    "# Lagrange\n",
    "\n",
    "![Lagrange](../python/image/Lagrange1.png)\n"
   ]
  },
  {
   "cell_type": "code",
   "execution_count": 7,
   "metadata": {},
   "outputs": [],
   "source": [
    "import math\n",
    "import numpy as np\n",
    "from matplotlib import pyplot as plt\n",
    "def Draw(Px):\n",
    "    x = np.arange(0.4,2.6,0.01)\n",
    "    y = np.zeros(len(x))\n",
    "    for i in range(0,len(x)):\n",
    "        y[i] = Px.subs(t,x[i])\n",
    "\n",
    "    plt.plot(x,y)\n",
    "    plt.xlabel(\"Coordena X\")\n",
    "    plt.ylabel(\"Coordena Y\")\n",
    "    plt.show() "
   ]
  },
  {
   "cell_type": "code",
   "execution_count": 8,
   "metadata": {},
   "outputs": [],
   "source": [
    "from numpy import dot,sqrt,array,eye,zeros_like,cos,sin,diag,exp,pi\n",
    "from numpy.linalg import solve\n",
    "from math import *\n",
    "import numpy as np\n",
    "import pandas as pd \n",
    "from tabulate import tabulate\n",
    "import sympy as sym\n",
    "\n",
    "def lagrange(x,y,xcur):\n",
    "    n = len(x)\n",
    "    Li = []\n",
    "    for i in range(0,n):\n",
    "        val = 1\n",
    "        for j in range(0,n):\n",
    "            if i==j:\n",
    "                continue\n",
    "            val *= (t-x[j])/(x[i]-x[j])\n",
    "        Li.append(val.simplify())    \n",
    "    \n",
    "    print(Li)\n",
    "    Pn = 0\n",
    "    for i in range(0,n):\n",
    "        Pn += y[i]*Li[i]\n",
    "    print('Polinomio reducido :')\n",
    "    print(Pn.simplify())\n",
    "    print('Remplazando para el punto xcur :')\n",
    "    print(Pn.subs(t,xcur))\n",
    "    Draw(Pn)\n",
    "    \n",
    "\n"
   ]
  },
  {
   "cell_type": "code",
   "execution_count": 9,
   "metadata": {},
   "outputs": [
    {
     "name": "stdout",
     "output_type": "stream",
     "text": [
      "[-t*(t - 3)*(t - 2)*(t - 1)*(t + 1)/120, t*(t - 3)*(t - 2)*(t - 1)*(t + 2)/24, -(t - 3)*(t - 2)*(t - 1)*(t + 1)*(t + 2)/12, t*(t - 3)*(t - 2)*(t + 1)*(t + 2)/12, -t*(t - 3)*(t - 1)*(t + 1)*(t + 2)/24, t*(t**4 - 5*t**2 + 4)/120]\n",
      "Polinomio reducido :\n",
      "-t**5/120 + 25*t**4/24 - 25*t**3/24 + 23*t**2/24 - 19*t/20 + 1\n",
      "Remplazando para el punto xcur :\n",
      "61\n"
     ]
    },
    {
     "data": {
      "image/png": "[encoded data removed]",
      "text/plain": [
       "<Figure size 432x288 with 1 Axes>"
      ]
     },
     "metadata": {
      "needs_background": "light"
     },
     "output_type": "display_data"
    }
   ],
   "source": [
    "t = sym.Symbol('t')\n",
    "vecx = [-2,-1,0,1,2,3]\n",
    "vecy = [32,5,1,1,11,61]\n",
    "xcur = 3\n",
    "lagrange(vecx,vecy,xcur)"
   ]
  }
 ],
 "metadata": {
  "kernelspec": {
   "display_name": "Python 3.8.10 64-bit",
   "language": "python",
   "name": "python3"
  },
  "language_info": {
   "codemirror_mode": {
    "name": "ipython",
    "version": 3
   },
   "file_extension": ".py",
   "mimetype": "text/x-python",
   "name": "python",
   "nbconvert_exporter": "python",
   "pygments_lexer": "ipython3",
   "version": "3.8.10"
  },
  "orig_nbformat": 4,
  "vscode": {
   "interpreter": {
    "hash": "916dbcbb3f70747c44a77c7bcd40155683ae19c65e1c03b4aa3499c5328201f1"
   }
  }
 },
 "nbformat": 4,
 "nbformat_minor": 2
}
