{
 "cells": [
  {
   "cell_type": "markdown",
   "source": [
    "# Método de punjo fijo para sistema de ecuaciones no lineales"
   ],
   "metadata": {
    "collapsed": false
   },
   "id": "f56b14965a766525"
  },
  {
   "cell_type": "code",
   "execution_count": 1,
   "id": "initial_id",
   "metadata": {
    "collapsed": true,
    "ExecuteTime": {
     "end_time": "2024-06-12T01:12:09.906382Z",
     "start_time": "2024-06-12T01:12:09.143776Z"
    }
   },
   "outputs": [
    {
     "name": "stdout",
     "output_type": "stream",
     "text": [
      "Solución usando G1: [9.93018834e-10 1.00000000e+00] en 7 iteraciones\n",
      "Solución usando G2: [ 0.79999975 -0.59999917] en 68 iteraciones\n"
     ]
    }
   ],
   "source": [
    "import numpy as np\n",
    "\n",
    "def G1(x):\n",
    "    x1, x2 = x\n",
    "    return np.array([(1 - x2) / 2, np.sqrt(1 - x1**2)])\n",
    "\n",
    "def G2(x):\n",
    "    x1, x2 = x\n",
    "    return np.array([(1 - x2) / 2, -np.sqrt(1 - x1**2)])\n",
    "\n",
    "def fixed_point_iteration(G, x0, tol=1e-6, max_iter=1000):\n",
    "    x = x0\n",
    "    for i in range(max_iter):\n",
    "        x_new = G(x)\n",
    "        if np.linalg.norm(x_new - x) < tol:\n",
    "            return x_new, i+1\n",
    "        x = x_new\n",
    "    return x, max_iter\n",
    "\n",
    "# Soluciones iniciales\n",
    "x0 = np.array([0.5, 0.5])\n",
    "\n",
    "# Aplicar el método de punto fijo para G1\n",
    "sol_G1, iter_G1 = fixed_point_iteration(G1, x0)\n",
    "print(f\"Solución usando G1: {sol_G1} en {iter_G1} iteraciones\")\n",
    "\n",
    "# Aplicar el método de punto fijo para G2\n",
    "sol_G2, iter_G2 = fixed_point_iteration(G2, x0)\n",
    "print(f\"Solución usando G2: {sol_G2} en {iter_G2} iteraciones\")\n"
   ]
  },
  {
   "cell_type": "code",
   "outputs": [
    {
     "name": "stdout",
     "output_type": "stream",
     "text": [
      "Jacobian:\n",
      "[[0. 0.]\n",
      " [0. 0.]]\n",
      "Jacobian:\n",
      "[[ 0.         -0.50000001]\n",
      " [ 1.33333335  0.        ]]\n",
      "Norma espectral de JG1 en x*1: 0.0\n",
      "Norma espectral de JG2 en x*2: 0.8164965940953578\n",
      "El método con G1 converge en una vecindad adecuada del punto fijo x*1.\n",
      "El método con G2 converge en una vecindad adecuada del punto fijo x*2.\n",
      "[ 0. -1.]\n"
     ]
    }
   ],
   "source": [
    "import numpy as np\n",
    "from scipy.linalg import eigvals\n",
    "\n",
    "def G1(x):\n",
    "    x1, x2 = x\n",
    "    return np.array([(1 - x2) / 2, np.sqrt(1 - x1**2)])\n",
    "\n",
    "def G2(x):\n",
    "    x1, x2 = x\n",
    "    return np.array([(1 - x2) / 2, -np.sqrt(1 - x1**2)])\n",
    "\n",
    "def numerical_jacobian(G, x, eps=1e-8):\n",
    "    n = len(x)\n",
    "    jacobian = np.zeros((n, n))\n",
    "    fx = G(x)\n",
    "    \n",
    "    for i in range(n):\n",
    "        x_eps = np.copy(x)\n",
    "        x_eps[i] += eps\n",
    "        fx_eps = G(x_eps)\n",
    "        jacobian[:, i] = (fx_eps - fx) / eps\n",
    "    print('Jacobian:')\n",
    "    print(jacobian)\n",
    "    return jacobian\n",
    "\n",
    "# Puntos fijos\n",
    "x_star1 = np.array([0, 1])\n",
    "x_star2 = np.array([4/5, -3/5])\n",
    "\n",
    "# Calcular los jacobianos en los puntos fijos usando la diferenciación numérica\n",
    "JG1_star1 = numerical_jacobian(G1, x_star1)\n",
    "JG2_star2 = numerical_jacobian(G2, x_star2)\n",
    "\n",
    "# Calcular los valores propios\n",
    "eigvals_JG1 = eigvals(JG1_star1)\n",
    "eigvals_JG2 = eigvals(JG2_star2)\n",
    "\n",
    "# Calcular la norma espectral (el valor absoluto máximo de los valores propios)\n",
    "rho_JG1 = max(abs(eigvals_JG1))\n",
    "rho_JG2 = max(abs(eigvals_JG2))\n",
    "\n",
    "# Verificar la convergencia\n",
    "print(f\"Norma espectral de JG1 en x*1: {rho_JG1}\")\n",
    "print(f\"Norma espectral de JG2 en x*2: {rho_JG2}\")\n",
    "\n",
    "if rho_JG1 < 1:\n",
    "    print(\"El método con G1 converge en una vecindad adecuada del punto fijo x*1.\")\n",
    "else:\n",
    "    print(\"El método con G1 no converge en una vecindad adecuada del punto fijo x*1.\")\n",
    "\n",
    "if rho_JG2 < 1:\n",
    "    print(\"El método con G2 converge en una vecindad adecuada del punto fijo x*2.\")\n",
    "else:\n",
    "    print(\"El método con G2 no converge en una vecindad adecuada del punto fijo x*2.\")\n",
    "    \n",
    "print(G2([0, 1]))\n"
   ],
   "metadata": {
    "collapsed": false,
    "ExecuteTime": {
     "end_time": "2024-06-12T03:52:40.433796Z",
     "start_time": "2024-06-12T03:52:40.424952Z"
    }
   },
   "id": "f2898b79e455d9de",
   "execution_count": 20
  },
  {
   "cell_type": "markdown",
   "source": [
    "# Método de Newton para sistemas de ecuaciones no lineales"
   ],
   "metadata": {
    "collapsed": false
   },
   "id": "214f64be56b2a2b0"
  },
  {
   "cell_type": "code",
   "outputs": [
    {
     "name": "stdout",
     "output_type": "stream",
     "text": [
      "Solución: [2.00000396 0.49999986] en 13 iteraciones\n"
     ]
    }
   ],
   "source": [
    "import numpy as np\n",
    "\n",
    "def F(x):\n",
    "    x1, x2 = x\n",
    "    return np.array([x1 + 1/2 * np.log(x1*x2) - 2, x1 * x2**2 + 5*x2 - 3])\n",
    "\n",
    "def JF(x):\n",
    "    x1, x2 = x\n",
    "    return np.array([[1 + 1 / 2*x1, 1 / 2*x2], [x2**2, 2*x1*x2 + 5]])\n",
    "\n",
    "def newton_system(F, JF, x0, tol=1e-5, max_iter=1000):\n",
    "    x = x0\n",
    "    for i in range(max_iter):\n",
    "        Fx = -F(x)\n",
    "        JFx = JF(x)\n",
    "        h = np.linalg.solve(JFx, Fx)\n",
    "        x_new = x + h\n",
    "        if np.linalg.norm(h) < tol:\n",
    "            return x_new, i+1\n",
    "        x = x_new\n",
    "    return x, max_iter\n",
    "\n",
    "# Solución inicial\n",
    "x0 = np.array([1, 1.5])\n",
    "\n",
    "# Aplicar el método de Newton\n",
    "sol, iter = newton_system(F, JF, x0)\n",
    "print(f\"Solución: {sol} en {iter} iteraciones\")"
   ],
   "metadata": {
    "collapsed": false,
    "ExecuteTime": {
     "end_time": "2024-06-12T03:48:59.678747Z",
     "start_time": "2024-06-12T03:48:59.671982Z"
    }
   },
   "id": "7129c89501e21e04",
   "execution_count": 17
  },
  {
   "cell_type": "markdown",
   "source": [
    "# Metodo de Homotopia"
   ],
   "metadata": {
    "collapsed": false
   },
   "id": "69adc64764ff3d05"
  },
  {
   "cell_type": "code",
   "outputs": [
    {
     "name": "stdout",
     "output_type": "stream",
     "text": [
      "t: 0.01, x: [0.9899505  0.00989967]\n",
      "t: 0.02, x: [0.97980398 0.01959737]\n",
      "t: 0.03, x: [0.9695634 0.0290912]\n",
      "t: 0.04, x: [0.95923167 0.0383793 ]\n",
      "t: 0.05, x: [0.94881169 0.04745988]\n",
      "t: 0.060000000000000005, x: [0.9383063 0.0563312]\n",
      "t: 0.07, x: [0.92771833 0.06499158]\n",
      "t: 0.08, x: [0.91705056 0.0734394 ]\n",
      "t: 0.09, x: [0.90630573 0.08167309]\n",
      "t: 0.09999999999999999, x: [0.89548655 0.08969113]\n",
      "t: 0.10999999999999999, x: [0.8845957  0.09749207]\n",
      "t: 0.11999999999999998, x: [0.8736358 0.1050745]\n",
      "t: 0.12999999999999998, x: [0.86260944 0.11243706]\n",
      "t: 0.13999999999999999, x: [0.8515192  0.11957845]\n",
      "t: 0.15, x: [0.84036757 0.12649742]\n",
      "t: 0.16, x: [0.82915705 0.13319276]\n",
      "t: 0.17, x: [0.81789007 0.13966333]\n",
      "t: 0.18000000000000002, x: [0.80656904 0.14590801]\n",
      "t: 0.19000000000000003, x: [0.79519633 0.15192574]\n",
      "t: 0.20000000000000004, x: [0.78377426 0.15771553]\n",
      "t: 0.21000000000000005, x: [0.77230513 0.1632764 ]\n",
      "t: 0.22000000000000006, x: [0.76079119 0.16860744]\n",
      "t: 0.23000000000000007, x: [0.74923467 0.17370777]\n",
      "t: 0.24000000000000007, x: [0.73763776 0.17857656]\n",
      "t: 0.25000000000000006, x: [0.72600261 0.18321302]\n",
      "t: 0.26000000000000006, x: [0.71433135 0.18761642]\n",
      "t: 0.2700000000000001, x: [0.70262606 0.19178605]\n",
      "t: 0.2800000000000001, x: [0.69088882 0.19572125]\n",
      "t: 0.2900000000000001, x: [0.67912164 0.1994214 ]\n",
      "t: 0.3000000000000001, x: [0.66732655 0.20288593]\n",
      "t: 0.3100000000000001, x: [0.65550552 0.20611429]\n",
      "t: 0.3200000000000001, x: [0.6436605  0.20910599]\n",
      "t: 0.3300000000000001, x: [0.63179343 0.21186056]\n",
      "t: 0.34000000000000014, x: [0.61990622 0.21437759]\n",
      "t: 0.35000000000000014, x: [0.60800076 0.21665669]\n",
      "t: 0.36000000000000015, x: [0.59607893 0.21869751]\n",
      "t: 0.37000000000000016, x: [0.58414257 0.22049975]\n",
      "t: 0.38000000000000017, x: [0.57219354 0.22206313]\n",
      "t: 0.3900000000000002, x: [0.56023366 0.22338742]\n",
      "t: 0.4000000000000002, x: [0.54826475 0.22447242]\n",
      "t: 0.4100000000000002, x: [0.53628861 0.22531796]\n",
      "t: 0.4200000000000002, x: [0.52430705 0.22592393]\n",
      "t: 0.4300000000000002, x: [0.51232186 0.22629022]\n",
      "t: 0.4400000000000002, x: [0.50033482 0.22641679]\n",
      "t: 0.45000000000000023, x: [0.48834774 0.22630361]\n",
      "t: 0.46000000000000024, x: [0.4763624  0.22595071]\n",
      "t: 0.47000000000000025, x: [0.46438059 0.22535813]\n",
      "t: 0.48000000000000026, x: [0.4524041  0.22452597]\n",
      "t: 0.49000000000000027, x: [0.44043474 0.22345434]\n",
      "t: 0.5000000000000002, x: [0.4284743  0.22214342]\n",
      "t: 0.5100000000000002, x: [0.41652462 0.22059339]\n",
      "t: 0.5200000000000002, x: [0.40458751 0.21880449]\n",
      "t: 0.5300000000000002, x: [0.39266481 0.21677698]\n",
      "t: 0.5400000000000003, x: [0.38075839 0.21451119]\n",
      "t: 0.5500000000000003, x: [0.36887011 0.21200744]\n",
      "t: 0.5600000000000003, x: [0.35700187 0.20926613]\n",
      "t: 0.5700000000000003, x: [0.34515557 0.20628766]\n",
      "t: 0.5800000000000003, x: [0.33333314 0.20307251]\n",
      "t: 0.5900000000000003, x: [0.32153655 0.19962116]\n",
      "t: 0.6000000000000003, x: [0.30976776 0.19593415]\n",
      "t: 0.6100000000000003, x: [0.29802879 0.19201207]\n",
      "t: 0.6200000000000003, x: [0.28632167 0.18785552]\n",
      "t: 0.6300000000000003, x: [0.27464845 0.18346516]\n",
      "t: 0.6400000000000003, x: [0.26301122 0.1788417 ]\n",
      "t: 0.6500000000000004, x: [0.25141212 0.17398586]\n",
      "t: 0.6600000000000004, x: [0.23985329 0.16889845]\n",
      "t: 0.6700000000000004, x: [0.22833691 0.16358028]\n",
      "t: 0.6800000000000004, x: [0.21686522 0.15803222]\n",
      "t: 0.6900000000000004, x: [0.20544046 0.1522552 ]\n",
      "t: 0.7000000000000004, x: [0.19406493 0.14625017]\n",
      "t: 0.7100000000000004, x: [0.18274095 0.14001814]\n",
      "t: 0.7200000000000004, x: [0.17147089 0.13356017]\n",
      "t: 0.7300000000000004, x: [0.16025715 0.12687735]\n",
      "t: 0.7400000000000004, x: [0.14910217 0.11997085]\n",
      "t: 0.7500000000000004, x: [0.13800843 0.11284185]\n",
      "t: 0.7600000000000005, x: [0.12697844 0.10549161]\n",
      "t: 0.7700000000000005, x: [0.11601476 0.09792143]\n",
      "t: 0.7800000000000005, x: [0.10511998 0.09013266]\n",
      "t: 0.7900000000000005, x: [0.09429672 0.0821267 ]\n",
      "t: 0.8000000000000005, x: [0.08354767 0.07390502]\n",
      "t: 0.8100000000000005, x: [0.07287552 0.06546912]\n",
      "t: 0.8200000000000005, x: [0.06228302 0.05682057]\n",
      "t: 0.8300000000000005, x: [0.05177295 0.04796099]\n",
      "t: 0.8400000000000005, x: [0.04134812 0.03889206]\n",
      "t: 0.8500000000000005, x: [0.03101139 0.0296155 ]\n",
      "t: 0.8600000000000005, x: [0.02076564 0.02013312]\n",
      "t: 0.8700000000000006, x: [0.01061379 0.01044676]\n",
      "t: 0.8800000000000006, x: [0.00055879 0.00055832]\n",
      "t: 0.8900000000000006, x: [-0.00939638 -0.00953023]\n",
      "t: 0.9000000000000006, x: [-0.01924869 -0.01981685]\n",
      "t: 0.9100000000000006, x: [-0.02899512 -0.03029947]\n",
      "t: 0.9200000000000006, x: [-0.03863259 -0.04097593]\n",
      "t: 0.9300000000000006, x: [-0.048158   -0.05184403]\n",
      "t: 0.9400000000000006, x: [-0.05756825 -0.06290148]\n",
      "t: 0.9500000000000006, x: [-0.06686017 -0.07414597]\n",
      "t: 0.9600000000000006, x: [-0.07603063 -0.08557508]\n",
      "t: 0.9700000000000006, x: [-0.08507642 -0.09718636]\n",
      "t: 0.9800000000000006, x: [-0.09399437 -0.10897728]\n",
      "t: 0.9900000000000007, x: [-0.10278124 -0.12094526]\n",
      "t: 1.0000000000000007, x: [-0.11143383 -0.13308764]\n",
      "Solución final: [-0.11143383 -0.13308764]\n"
     ]
    }
   ],
   "source": [
    "import numpy as np\n",
    "\n",
    "def F(x):\n",
    "    x1, x2 = x\n",
    "    return np.array([x1**2 + x2**2 - 1, 2*x1 + x2 - 1])\n",
    "\n",
    "def G(x):\n",
    "    return np.array([x[0], x[1]])\n",
    "\n",
    "def homotopy_H(x, t):\n",
    "    return t * F(x) + (1 - t) * G(x)\n",
    "\n",
    "def homotopy_dH_dt(x, t):\n",
    "    return F(x) - G(x)\n",
    "\n",
    "def runge_kutta_4(f, x0, t0, t1, dt):\n",
    "    t = t0\n",
    "    x = x0\n",
    "    while t < t1:\n",
    "        k1 = dt * f(x, t)\n",
    "        k2 = dt * f(x + 0.5 * k1, t + 0.5 * dt)\n",
    "        k3 = dt * f(x + 0.5 * k2, t + 0.5 * dt)\n",
    "        k4 = dt * f(x + k3, t + dt)\n",
    "        x = x + (k1 + 2*k2 + 2*k3 + k4) / 6\n",
    "        t = t + dt\n",
    "        print(f\"t: {t}, x: {x}\")\n",
    "    return x\n",
    "\n",
    "# Parámetros iniciales\n",
    "x0 = np.array([1.0, 0.0])  # Solución inicial de G(x) = 0\n",
    "t0 = 0.0\n",
    "t1 = 1.0\n",
    "dt = 0.01\n",
    "\n",
    "# Resolver la homotopía usando Runge-Kutta de cuarto orden\n",
    "sol = runge_kutta_4(homotopy_dH_dt, x0, t0, t1, dt)\n",
    "print(f\"Solución final: {sol}\")\n"
   ],
   "metadata": {
    "collapsed": false,
    "ExecuteTime": {
     "end_time": "2024-06-12T06:45:50.873193Z",
     "start_time": "2024-06-12T06:45:50.820232Z"
    }
   },
   "id": "21a96502eb8315aa",
   "execution_count": 21
  },
  {
   "cell_type": "markdown",
   "source": [
    "# Broyden"
   ],
   "metadata": {
    "collapsed": false
   },
   "id": "80997563c545563"
  },
  {
   "cell_type": "code",
   "outputs": [
    {
     "name": "stdout",
     "output_type": "stream",
     "text": [
      "Iteración 1: x = [0.75 1.  ], J = [[1.51923077 0.34615385]\n",
      " [1.38461538 1.92307692]]\n",
      "Iteración 2: x = [0.51968504 0.38582677], J = [[1.83027513 1.17560549]\n",
      " [1.15700738 1.31612223]]\n",
      "Iteración 3: x = [ 1.72559592 -0.99736135], J = [[ 2.89472555 -0.04532649]\n",
      " [ 1.67763878  0.71895442]]\n",
      "Iteración 4: x = [ 0.7044076  -0.63662272], J = [[ 2.98049925 -0.07562638]\n",
      " [ 1.87597017  0.64889311]]\n",
      "Iteración 5: x = [ 0.74350304 -0.39857789], J = [[ 2.78678899 -1.2550921 ]\n",
      " [ 1.9353775   1.01061332]]\n",
      "Iteración 6: x = [ 0.77789739 -0.5519444 ], J = [[ 2.6611626  -0.6949164 ]\n",
      " [ 1.94073816  0.98670979]]\n",
      "Iteración 7: x = [ 0.79962573 -0.59858365], J = [[ 2.6423154  -0.65446145]\n",
      " [ 1.94621934  0.97494461]]\n",
      "Iteración 8: x = [ 0.80009373 -0.60020286], J = [[ 2.7071306  -0.87871392]\n",
      " [ 1.94368226  0.98372261]]\n",
      "Iteración 9: x = [ 0.80000828 -0.60001836], J = [[ 2.63420373 -0.72126083]\n",
      " [ 1.94742224  0.97564779]]\n",
      "Iteración 10: x = [ 0.79999995 -0.59999988], J = [[ 2.63892815 -0.73174246]\n",
      " [ 1.94717736  0.97619108]]\n",
      "Solución final: [ 0.79999995 -0.59999988] en 11 iteraciones\n"
     ]
    }
   ],
   "source": [
    "import numpy as np\n",
    "\n",
    "def F(x):\n",
    "    x1, x2 = x\n",
    "    return np.array([x1**2 + x2**2 - 1, 2*x1 + x2 - 1])\n",
    "\n",
    "def broyden_method(F, x0, tol=1e-6, max_iter=100):\n",
    "    n = len(x0)\n",
    "    x = x0\n",
    "    J = np.eye(n)  # Inicializamos la aproximación del jacobiano como la matriz identidad\n",
    "    for k in range(max_iter):\n",
    "        Fx = F(x)\n",
    "        if np.linalg.norm(Fx) < tol:\n",
    "            return x, k+1\n",
    "        s = -np.linalg.solve(J, Fx)\n",
    "        x_new = x + s\n",
    "        y = F(x_new) - Fx\n",
    "        J = J + np.outer((y - J @ s), s) / np.dot(s, s)\n",
    "        x = x_new\n",
    "        print(f\"Iteración {k+1}: x = {x}, J = {J}\")\n",
    "    return x, max_iter\n",
    "\n",
    "# Valores iniciales\n",
    "x0 = np.array([0, 0.5])\n",
    "\n",
    "# Aplicar el método de Broyden\n",
    "sol, iter = broyden_method(F, x0)\n",
    "print(f\"Solución final: {sol} en {iter} iteraciones\")\n"
   ],
   "metadata": {
    "collapsed": false,
    "ExecuteTime": {
     "end_time": "2024-06-12T07:03:48.176026Z",
     "start_time": "2024-06-12T07:03:48.166405Z"
    }
   },
   "id": "6671f8c056e9cb48",
   "execution_count": 23
  }
 ],
 "metadata": {
  "kernelspec": {
   "display_name": "Python 3",
   "language": "python",
   "name": "python3"
  },
  "language_info": {
   "codemirror_mode": {
    "name": "ipython",
    "version": 2
   },
   "file_extension": ".py",
   "mimetype": "text/x-python",
   "name": "python",
   "nbconvert_exporter": "python",
   "pygments_lexer": "ipython2",
   "version": "2.7.6"
  }
 },
 "nbformat": 4,
 "nbformat_minor": 5
}
