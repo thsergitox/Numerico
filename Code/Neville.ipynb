{
 "cells": [
  {
   "cell_type": "markdown",
   "metadata": {},
   "source": [
    "# Neville\n",
    "![neville](../python/image/Neville1.png)"
   ]
  },
  {
   "cell_type": "code",
   "execution_count": 12,
   "metadata": {},
   "outputs": [],
   "source": [
    "from numpy import dot,sqrt,array,eye,zeros_like,cos,sin,diag,exp,pi\n",
    "from numpy.linalg import solve\n",
    "from math import *\n",
    "import numpy as np\n",
    "import pandas as pd \n",
    "from tabulate import tabulate\n",
    "import sympy as sym\n",
    "from fractions import Fraction as fr"
   ]
  },
  {
   "cell_type": "code",
   "execution_count": 13,
   "metadata": {},
   "outputs": [],
   "source": [
    "t =sym.Symbol('t')\n",
    "import math\n",
    "import numpy as np\n",
    "from matplotlib import pyplot as plt\n",
    "\n",
    "def DrawNeville(Px):\n",
    "    x = np.arange(0.4,2.6,0.01)\n",
    "    y = np.zeros(len(x))\n",
    "    for i in range(0,len(x)):\n",
    "        y[i] = Px.subs(t,x[i])\n",
    "\n",
    "    plt.plot(x,y)\n",
    "    plt.xlabel(\"Coordena X\")\n",
    "    plt.ylabel(\"Coordena Y\")\n",
    "    plt.show()   \n",
    "\n"
   ]
  },
  {
   "cell_type": "code",
   "execution_count": 14,
   "metadata": {},
   "outputs": [],
   "source": [
    "\n",
    "def neville(l,r,vecx,vecy):\n",
    "    if l==r:\n",
    "        P[l][r] = vecy[l]  \n",
    "        return vecy[l]\n",
    "\n",
    "    val = ((t-vecx[l])*neville(l+1,r,vecx,vecy)-(t-vecx[r])*neville(l,r-1,vecx,vecy))/(vecx[r]-vecx[l])\n",
    "    P[l][r] = val.simplify()\n",
    "    return val"
   ]
  },
  {
   "cell_type": "code",
   "execution_count": 15,
   "metadata": {},
   "outputs": [
    {
     "name": "stdout",
     "output_type": "stream",
     "text": [
      "[1.7724, 2.5448 - 1.5448*t, 1.3172*t**2 - 3.5206*t + 3.2034, -0.574666666666667*t**3 + 3.0412*t**2 - 5.10093333333333*t + 3.6344, 0.279266666666667*t**4 - 1.971*t**3 + 5.48478333333333*t**2 - 6.84635*t + 4.0533]\n",
      "[1, 1.2276 - 0.2276*t, 0.4552*t**2 - 1.3656*t + 1.9104, -0.0161333333333334*t**3 + 0.527800000000001*t**2 - 1.47046666666667*t + 1.9588]\n",
      "[0.8862, 0.2276*t + 0.5448, 0.431*t**2 - 1.2809*t + 1.8378]\n",
      "[1, 0.6586*t - 0.3172]\n",
      "[1.3293]\n"
     ]
    },
    {
     "data": {
      "image/png": "[encoded data removed]",
      "text/plain": [
       "<Figure size 432x288 with 1 Axes>"
      ]
     },
     "metadata": {
      "needs_background": "light"
     },
     "output_type": "display_data"
    }
   ],
   "source": [
    "vecx = [0.5,1,1.5,2,2.5]\n",
    "vecy = [1.7724,1,0.8862,1,1.3293]\n",
    "n = len(vecx)\n",
    "P = [[None]*n for i in range(n)]\n",
    "Px = neville(0,n-1,vecx,vecy)\n",
    "for i in range(0,n):\n",
    "    print(P[i][i:n])\n",
    "\n",
    "DrawNeville(Px)\n"
   ]
  }
 ],
 "metadata": {
  "kernelspec": {
   "display_name": "Python 3.8.10 64-bit",
   "language": "python",
   "name": "python3"
  },
  "language_info": {
   "codemirror_mode": {
    "name": "ipython",
    "version": 3
   },
   "file_extension": ".py",
   "mimetype": "text/x-python",
   "name": "python",
   "nbconvert_exporter": "python",
   "pygments_lexer": "ipython3",
   "version": "3.8.10"
  },
  "orig_nbformat": 4,
  "vscode": {
   "interpreter": {
    "hash": "916dbcbb3f70747c44a77c7bcd40155683ae19c65e1c03b4aa3499c5328201f1"
   }
  }
 },
 "nbformat": 4,
 "nbformat_minor": 2
}
