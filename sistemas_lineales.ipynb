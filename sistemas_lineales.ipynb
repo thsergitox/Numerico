{
 "cells": [
  {
   "cell_type": "code",
   "outputs": [],
   "source": [
    "import numpy as np"
   ],
   "metadata": {
    "collapsed": false,
    "ExecuteTime": {
     "end_time": "2024-05-15T03:44:25.036113Z",
     "start_time": "2024-05-15T03:44:24.912859Z"
    }
   },
   "id": "b532251e052309ed",
   "execution_count": 1
  },
  {
   "cell_type": "code",
   "outputs": [
    {
     "name": "stdout",
     "output_type": "stream",
     "text": [
      "[2.0, 3.0000000000000004, -0.9999999999999999]\n"
     ]
    }
   ],
   "source": [
    "# METODO DE GAUSS\n",
    "\n",
    "def gauss(A, b):\n",
    "    n = len(A)\n",
    "    for i in range(n):\n",
    "        maxEl = abs(A[i][i])\n",
    "        maxRow = i\n",
    "        for k in range(i+1, n):\n",
    "            if abs(A[k][i]) > maxEl:\n",
    "                maxEl = abs(A[k][i])\n",
    "                maxRow = k\n",
    "        for k in range(i, n):\n",
    "            tmp = A[maxRow][k]\n",
    "            A[maxRow][k] = A[i][k]\n",
    "            A[i][k] = tmp\n",
    "        tmp = b[maxRow]\n",
    "        b[maxRow] = b[i]\n",
    "        b[i] = tmp\n",
    "        for k in range(i+1, n):\n",
    "            c = -A[k][i] / A[i][i]\n",
    "            for j in range(i, n):\n",
    "                if i == j:\n",
    "                    A[k][j] = 0\n",
    "                else:\n",
    "                    A[k][j] += c * A[i][j]\n",
    "            b[k] += c * b[i]\n",
    "    x = [0 for i in range(n)]\n",
    "    for i in range(n-1, -1, -1):\n",
    "        x[i] = b[i] / A[i][i]\n",
    "        for k in range(i-1, -1, -1):\n",
    "            b[k] -= A[k][i] * x[i]\n",
    "    return x\n",
    "\n",
    "matrix = [[2, 1, -1], [-3, -1, 2], [-2, 1, 2]]\n",
    "\n",
    "vector = [8, -11, -3]\n",
    "\n",
    "print(gauss(matrix, vector))"
   ],
   "metadata": {
    "collapsed": false,
    "ExecuteTime": {
     "end_time": "2024-05-29T21:06:43.757953Z",
     "start_time": "2024-05-29T21:06:43.750728Z"
    }
   },
   "id": "d4ec5000a01933ed",
   "execution_count": 47
  },
  {
   "cell_type": "code",
   "outputs": [
    {
     "name": "stdout",
     "output_type": "stream",
     "text": [
      "[2.0000000000000004, 3.0000000000000004, -0.9999999999999999]\n"
     ]
    }
   ],
   "source": [
    "# METODO DE GAUSS-JORDAN\n",
    "\n",
    "def gauss_jordan(A, b):\n",
    "    n = len(A)\n",
    "    for i in range(n):\n",
    "        maxEl = abs(A[i][i])\n",
    "        maxRow = i\n",
    "        for k in range(i+1, n):\n",
    "            if abs(A[k][i]) > maxEl:\n",
    "                maxEl = abs(A[k][i])\n",
    "                maxRow = k\n",
    "        for k in range(i, n):\n",
    "            tmp = A[maxRow][k]\n",
    "            A[maxRow][k] = A[i][k]\n",
    "            A[i][k] = tmp\n",
    "        tmp = b[maxRow]\n",
    "        b[maxRow] = b[i]\n",
    "        b[i] = tmp\n",
    "        for k in range(n):\n",
    "            if k != i:\n",
    "                c = A[k][i] / A[i][i]\n",
    "                for j in range(n):\n",
    "                    A[k][j] -= c * A[i][j]\n",
    "                b[k] -= c * b[i]\n",
    "    for i in range(n):\n",
    "        b[i] /= A[i][i]\n",
    "    return b\n",
    "\n",
    "matrix = [[2, 1, -1], [-3, -1, 2], [-2, 1, 2]]\n",
    "\n",
    "vector = [8, -11, -3]\n",
    "\n",
    "print(gauss_jordan(matrix, vector))"
   ],
   "metadata": {
    "collapsed": false,
    "ExecuteTime": {
     "end_time": "2024-05-15T03:44:31.500570Z",
     "start_time": "2024-05-15T03:44:31.494298Z"
    }
   },
   "id": "43e7dabf069b32a1",
   "execution_count": 3
  },
  {
   "cell_type": "code",
   "outputs": [
    {
     "name": "stdout",
     "output_type": "stream",
     "text": [
      "[[1.0, 0.0, 0.0], [-0.5, 1.0, 0.0], [0.0, -0.4, 1.0]] [[2, 1, 0], [0.0, 2.5, -1.0], [0.0, 0.0, 1.6]]\n"
     ]
    }
   ],
   "source": [
    "# METODO LU \n",
    "\n",
    "def lu(A):\n",
    "    n = len(A)\n",
    "    L = [[0.0] * n for i in range(n)]\n",
    "    U = [[0.0] * n for i in range(n)]\n",
    "    for j in range(n):\n",
    "        L[j][j] = 1.0\n",
    "        for i in range(j+1):\n",
    "            s1 = sum(U[k][j] * L[i][k] for k in range(i))\n",
    "            U[i][j] = A[i][j] - s1\n",
    "        for i in range(j, n):\n",
    "            s2 = sum(U[k][j] * L[i][k] for k in range(j))\n",
    "            L[i][j] = (A[i][j] - s2) / U[j][j]\n",
    "    return L, U\n",
    "\n",
    "def lu_solve(L, U, b):\n",
    "    n = len(L)\n",
    "    y = [0 for i in range(n)]\n",
    "    x = [0 for i in range(n)]\n",
    "    for i in range(n):\n",
    "        y[i] = b[i] / L[i][i]\n",
    "        for k in range(i+1, n):\n",
    "            b[k] -= y[i] * L[k][i]\n",
    "    for i in range(n-1, -1, -1):\n",
    "        x[i] = b[i] / U[i][i]\n",
    "        for k in range(i-1, -1, -1):\n",
    "            b[k] -= x[i] * U[k][i]\n",
    "    return x\n",
    "\n",
    "matrix = [[2, 1, 0], [-1, 2, -1], [0, -1, 2]]\n",
    "\n",
    "vector = [8, -11, -3]\n",
    "\n",
    "L, U = lu(matrix)\n",
    "\n",
    "print(L, U)\n"
   ],
   "metadata": {
    "collapsed": false,
    "ExecuteTime": {
     "end_time": "2024-05-15T03:44:34.090604Z",
     "start_time": "2024-05-15T03:44:34.082991Z"
    }
   },
   "id": "f074eccdc15e8f4c",
   "execution_count": 4
  },
  {
   "cell_type": "code",
   "outputs": [
    {
     "name": "stdout",
     "output_type": "stream",
     "text": [
      "[2.0, 3.0, -1.0]\n"
     ]
    }
   ],
   "source": [
    "# METODO DE DOLITTLE\n",
    "\n",
    "def dolittle(A):\n",
    "    n = len(A)\n",
    "    L = [[0.0] * n for i in range(n)]\n",
    "    U = [[0.0] * n for i in range(n)]\n",
    "    for i in range(n):\n",
    "        L[i][i] = 1.0\n",
    "    for i in range(n):\n",
    "        for j in range(i, n):\n",
    "            U[i][j] = A[i][j] - sum(L[i][k] * U[k][j] for k in range(i))\n",
    "        for j in range(i+1, n):\n",
    "            L[j][i] = (A[j][i] - sum(L[j][k] * U[k][i] for k in range(i))) / U[i][i]\n",
    "    return L, U\n",
    "\n",
    "def dolittle_solve(L, U, b):\n",
    "    n = len(L)\n",
    "    y = [0 for i in range(n)]\n",
    "    x = [0 for i in range(n)]\n",
    "    for i in range(n):\n",
    "        y[i] = b[i] / L[i][i]\n",
    "        for k in range(i+1, n):\n",
    "            b[k] -= y[i] * L[k][i]\n",
    "    for i in range(n-1, -1, -1):\n",
    "        x[i] = b[i] / U[i][i]\n",
    "        for k in range(i-1, -1, -1):\n",
    "            b[k] -= x[i] * U[k][i]\n",
    "    return x\n",
    "\n",
    "matrix = [[2, 1, -1], [-3, -1, 2], [-2, 1, 2]]\n",
    "\n",
    "vector = [8, -11, -3]\n",
    "\n",
    "L, U = dolittle(matrix)\n",
    "\n",
    "print(dolittle_solve(L, U, vector))"
   ],
   "metadata": {
    "collapsed": false,
    "ExecuteTime": {
     "end_time": "2024-05-15T03:44:36.694673Z",
     "start_time": "2024-05-15T03:44:36.687303Z"
    }
   },
   "id": "4cf16a6958a68457",
   "execution_count": 5
  },
  {
   "cell_type": "code",
   "outputs": [
    {
     "name": "stdout",
     "output_type": "stream",
     "text": [
      "[[1.0, 0.0, 0.0], [-1.5, 1.0, 0.0], [-1.0, 4.0, 1.0]] [[2, 1, -1], [0.0, 0.5, 0.5], [0.0, 0.0, -1.0]]\n",
      "Solucion: \n",
      "[2.0, 3.0, -1.0]\n"
     ]
    }
   ],
   "source": [
    "# METODO DE PARLET-REID\n",
    "\n",
    "def parlet_reid(A):\n",
    "    n = len(A)\n",
    "    L = [[0.0] * n for i in range(n)]\n",
    "    U = [[0.0] * n for i in range(n)]\n",
    "    for i in range(n):\n",
    "        L[i][i] = 1.0\n",
    "    for i in range(n):\n",
    "        for j in range(i, n):\n",
    "            U[i][j] = A[i][j] - sum(L[i][k] * U[k][j] for k in range(i))\n",
    "        for j in range(i+1, n):\n",
    "            L[j][i] = (A[j][i] - sum(L[j][k] * U[k][i] for k in range(i))) / U[i][i]\n",
    "    return L, U\n",
    "\n",
    "def parlet_reid_solve(L, U, b):\n",
    "    n = len(L)\n",
    "    y = [0 for i in range(n)]\n",
    "    x = [0 for i in range(n)]\n",
    "    for i in range(n):\n",
    "        y[i] = b[i] / L[i][i]\n",
    "        for k in range(i+1, n):\n",
    "            b[k] -= y[i] * L[k][i]\n",
    "    for i in range(n-1, -1, -1):\n",
    "        x[i] = b[i] / U[i][i]\n",
    "        for k in range(i-1, -1, -1):\n",
    "            b[k] -= x[i] * U[k][i]\n",
    "    return x\n",
    "\n",
    "matrix = [[2, 1, -1], [-3, -1, 2], [-2, 1, 2]]\n",
    "\n",
    "vector = [8, -11, -3]\n",
    "\n",
    "L, U = parlet_reid(matrix)\n",
    "\n",
    "print(L, U)\n",
    "print(\"Solucion: \")\n",
    "print(parlet_reid_solve(L, U, vector))\n"
   ],
   "metadata": {
    "collapsed": false,
    "ExecuteTime": {
     "end_time": "2024-05-15T03:44:39.063454Z",
     "start_time": "2024-05-15T03:44:39.053254Z"
    }
   },
   "id": "3798ce500357c623",
   "execution_count": 6
  },
  {
   "cell_type": "code",
   "execution_count": 11,
   "id": "initial_id",
   "metadata": {
    "collapsed": true,
    "ExecuteTime": {
     "end_time": "2024-05-15T04:13:34.717794Z",
     "start_time": "2024-05-15T04:13:34.709562Z"
    }
   },
   "outputs": [
    {
     "name": "stdout",
     "output_type": "stream",
     "text": [
      "[[2.0, 0.0, 0.0, 0.0, 0.0, 0.0], [-0.5, 1.9364916731037085, 0.0, 0.0, 0.0, 0.0], [0.0, -0.5163977794943222, 1.9321835661585918, 0.0, 0.0, 0.0], [-0.5, -0.12909944487358055, -0.034503277967117704, 1.9318754766140744, 0.0, 0.0], [0.0, -0.5163977794943222, -0.13801311186847082, -0.5546053999849018, 1.8457244010396843, 0.0], [0.0, 0.0, -0.5175491695067657, -0.009243423333081693, -0.5832696492049564, 1.841698654119145]]\n"
     ]
    }
   ],
   "source": [
    "# METODO DE CHOLESKY\n",
    "\n",
    "\n",
    "import math\n",
    "max = 100\n",
    "\n",
    "def cholesky(A):\n",
    "    n = len(A)\n",
    "    L = [[0.0] * n for i in range(n)]\n",
    "    for i in range(n):\n",
    "        for k in range(i+1):\n",
    "            tmp_sum = sum(L[i][j] * L[k][j] for j in range(k))\n",
    "            if (i == k):\n",
    "                L[i][k] = math.sqrt(A[i][i] - tmp_sum)\n",
    "            else:\n",
    "                L[i][k] = (1.0 / L[k][k] * (A[i][k] - tmp_sum))\n",
    "    return L\n",
    "\n",
    "def cholesky_solve(L, b):\n",
    "    n = len(L)\n",
    "    y = [0 for i in range(n)]\n",
    "    for i in range(n):\n",
    "        y[i] = (b[i] - sum(L[i][j] * y[j] for j in range(i))) / L[i][i]\n",
    "    x = [0 for i in range(n)]\n",
    "    for i in range(n-1, -1, -1):\n",
    "        x[i] = (y[i] - sum(L[j][i] * x[j] for j in range(i+1, n))) / L[i][i]\n",
    "    return x\n",
    "\n",
    "matrix = [[4, - 1, 0, -1, 0, 0], [-1, 4, -1, 0, -1, 0], [0, -1, 4, 0, 0, -1], [-1, 0, 0, 4, -1, 0], [0, -1, 0, -1, 4, 0], [0, 0, -1, 0, -1, 4]]\n",
    "\n",
    "vector = [1, 2, 3]\n",
    "\n",
    "L = cholesky(matrix)\n",
    "\n",
    "print(L)"
   ]
  },
  {
   "cell_type": "code",
   "outputs": [
    {
     "name": "stdout",
     "output_type": "stream",
     "text": [
      "[[0.29393939393939394, 0.09090909090909091, 0.024242424242424242, 0.08484848484848484, 0.045454545454545456, 0.006060606060606061], [0.09128787878787878, 0.3181818181818182, 0.08484848484848484, 0.04696969696969697, 0.09659090909090909, 0.021212121212121213], [0.02727272727272727, 0.09090909090909091, 0.2909090909090909, 0.01818181818181818, 0.045454545454545456, 0.07272727272727272], [0.08446969696969697, 0.045454545454545456, 0.012121212121212121, 0.2924242424242424, 0.08522727272727273, 0.0030303030303030303], [0.043939393939393945, 0.09090909090909091, 0.024242424242424242, 0.08484848484848485, 0.29545454545454547, 0.006060606060606061], [0.017803030303030303, 0.045454545454545456, 0.0787878787878788, 0.025757575757575764, 0.08522727272727273, 0.2696969696969697]]\n"
     ]
    }
   ],
   "source": [
    "# INVERSA DE UNA MATRIZ\n",
    "\n",
    "def inverse(A):\n",
    "    n = len(A)\n",
    "    A_inv = [[0.0] * n for i in range(n)]\n",
    "    for i in range(n):\n",
    "        A_inv[i][i] = 1.0\n",
    "    for i in range(n):\n",
    "        factor = 1.0 / A[i][i]\n",
    "        for j in range(n):\n",
    "            A[i][j] *= factor\n",
    "            A_inv[i][j] *= factor\n",
    "        for k in range(n):\n",
    "            if k != i:\n",
    "                factor = A[k][i]\n",
    "                for j in range(n):\n",
    "                    A[k][j] -= factor * A[i][j]\n",
    "                    A_inv[k][j] -= factor * A_inv[i][j]\n",
    "    return A_inv\n",
    "\n",
    "matrix = [[4, - 1, 0, -1, 0, 0], [-1, 4, -1, 0, -1, 0], [0, -1, 4, 0, 0, -1], [-1, 0, 0, 4, -1, 0], [0, -1, 0, -1, 4, 0], [0, 0, -1, 0, -1, 4]]\n",
    "\n",
    "print(inverse(matrix))"
   ],
   "metadata": {
    "collapsed": false,
    "ExecuteTime": {
     "end_time": "2024-05-15T03:44:44.062862Z",
     "start_time": "2024-05-15T03:44:44.056010Z"
    }
   },
   "id": "6ea36ad0121d55b0",
   "execution_count": 8
  },
  {
   "cell_type": "code",
   "outputs": [
    {
     "name": "stdout",
     "output_type": "stream",
     "text": [
      "Número de condición (norma 1): 3.0\n",
      "Número de condición (norma infinito): 3.0000000000000004\n",
      "Número de condición (norma 2): 2.6180339887498945\n"
     ]
    }
   ],
   "source": [
    "\n",
    "# Definir la matriz A\n",
    "A = np.array([[4, 1], [2, 3]])\n",
    "\n",
    "# Calcular la norma 1, norma infinita y norma 2\n",
    "norm_1 = np.linalg.norm(A, 1)\n",
    "norm_inf = np.linalg.norm(A, np.inf)\n",
    "norm_2 = np.linalg.norm(A, 2)\n",
    "\n",
    "# Calcular la inversa de A\n",
    "A_inv = np.linalg.inv(A)\n",
    "\n",
    "# Calcular la norma de la inversa\n",
    "norm_1_inv = np.linalg.norm(A_inv, 1)\n",
    "norm_inf_inv = np.linalg.norm(A_inv, np.inf)\n",
    "norm_2_inv = np.linalg.norm(A_inv, 2)\n",
    "\n",
    "# Calcular el número de condición\n",
    "cond_1 = norm_1 * norm_1_inv\n",
    "cond_inf = norm_inf * norm_inf_inv\n",
    "cond_2 = norm_2 * norm_2_inv\n",
    "\n",
    "print(f'Número de condición (norma 1): {cond_1}')\n",
    "print(f'Número de condición (norma infinito): {cond_inf}')\n",
    "print(f'Número de condición (norma 2): {cond_2}')"
   ],
   "metadata": {
    "collapsed": false,
    "ExecuteTime": {
     "end_time": "2024-05-15T03:44:46.321746Z",
     "start_time": "2024-05-15T03:44:46.314384Z"
    }
   },
   "id": "dcf8bf686919ad06",
   "execution_count": 9
  },
  {
   "cell_type": "code",
   "outputs": [
    {
     "data": {
      "text/plain": "<Figure size 640x480 with 1 Axes>",
      "image/png": "[encoded data removed]"
     },
     "metadata": {},
     "output_type": "display_data"
    }
   ],
   "source": [
    "import scipy.io as sio\n",
    "data = sio.loadmat(\"hw4data\")\n",
    "\n",
    "x_values = data[\"t\"]\n",
    "y_values = data[\"y\"]\n",
    "\n",
    "# Graficar una curva con x_values a y_values\n",
    "\n",
    "import matplotlib.pyplot as plt\n",
    "\n",
    "plt.plot(x_values, y_values)\n",
    "plt.show()"
   ],
   "metadata": {
    "collapsed": false,
    "ExecuteTime": {
     "end_time": "2024-05-15T03:44:49.799775Z",
     "start_time": "2024-05-15T03:44:48.646844Z"
    }
   },
   "id": "538f789caec137c8",
   "execution_count": 10
  },
  {
   "cell_type": "markdown",
   "source": [
    "# Gram-Schmidt "
   ],
   "metadata": {
    "collapsed": false
   },
   "id": "2b1c61f1b4f8a1a2"
  },
  {
   "cell_type": "code",
   "outputs": [
    {
     "name": "stdout",
     "output_type": "stream",
     "text": [
      "Matriz E:\n",
      "[[ 0.70710678 -0.70710678 -0.70710678]\n",
      " [ 0.70710678 -0.70710678 -0.70710678]\n",
      " [ 0.          0.          0.        ]]\n",
      "Matriz U:\n",
      "[[ 1.41421356  3.53553391  6.36396103]\n",
      " [ 0.          3.53553391 -6.36396103]\n",
      " [ 0.          0.         12.72792206]]\n"
     ]
    }
   ],
   "source": [
    "import numpy as np\n",
    "\n",
    "def gram_schmidt(A):\n",
    "    m, n = A.shape\n",
    "    U = np.zeros((n, n), dtype=float)\n",
    "    E = np.zeros((m, n), dtype=float)\n",
    "    E[:, 0] = A[:, 0] \n",
    "\n",
    "    for j in range(n):\n",
    "        for i in range(j):\n",
    "            U[i, j] = np.dot(E[:, i].T, A[:, j])\n",
    "            E[:, j] -= U[i, j] * E[:, i]\n",
    "        \n",
    "        U[j, j] = np.sqrt(np.sum(E[:, j]**2))\n",
    "        E[:, j] /= U[j, j]\n",
    "    \n",
    "    return E, U\n",
    "\n",
    "# Ejemplo de uso\n",
    "A = np.array([[1.0, 2.0, 4.0], [1, 3.0, 5.0], [0.0, 0.0, 6.0]], dtype=float)\n",
    "E, U = gram_schmidt(A)\n",
    "\n",
    "print(\"Matriz E:\")\n",
    "print(E)\n",
    "print(\"Matriz U:\")\n",
    "print(U)"
   ],
   "metadata": {
    "collapsed": false,
    "ExecuteTime": {
     "end_time": "2024-05-29T21:50:56.844296Z",
     "start_time": "2024-05-29T21:50:56.838503Z"
    }
   },
   "id": "e39fae6ac8d0ff36",
   "execution_count": 75
  },
  {
   "cell_type": "markdown",
   "source": [
    "## Modificado de Gram-Schmidt"
   ],
   "metadata": {
    "collapsed": false
   },
   "id": "e1636a16e4972227"
  },
  {
   "cell_type": "code",
   "outputs": [
    {
     "name": "stdout",
     "output_type": "stream",
     "text": [
      "Matriz E:\n",
      "[[ 4.08248290e-01 -2.88675135e-01  7.07106781e-01]\n",
      " [ 8.16496581e-01  2.88675135e-01  1.57009246e-17]\n",
      " [-4.08248290e-01  2.88675135e-01  7.07106781e-01]\n",
      " [ 0.00000000e+00  8.66025404e-01  6.28036983e-17]]\n",
      "Matriz U:\n",
      "[[ 2.44948974  0.          0.40824829]\n",
      " [ 0.          3.46410162 -1.15470054]\n",
      " [ 0.          0.          3.53553391]]\n"
     ]
    }
   ],
   "source": [
    "import numpy as np\n",
    "\n",
    "def gram_schmidt(A):\n",
    "    m, n = A.shape\n",
    "    U = np.zeros((n, n), dtype=float)\n",
    "    E = np.zeros((m, n), dtype=float)\n",
    "    E[:, 0] = A[:, 0] \n",
    "\n",
    "    for j in range(n):  \n",
    "        E[:, j] = A[:, j]\n",
    "        for i in range(j):\n",
    "            U[i, j] = np.dot(E[:, i].T, E[:, j])\n",
    "            E[:, j] -= U[i, j] * E[:, i]\n",
    "        \n",
    "        U[j, j] = np.sqrt(np.sum(E[:, j]**2))\n",
    "        E[:, j] /= U[j, j]\n",
    "    \n",
    "    return E, U\n",
    "\n",
    "# Ejemplo de uso\n",
    "A = np.array([[1, -1, 3], [2, 1, 0], [-1, 1, 2], [0, 3, -1]], dtype=float)\n",
    "E, U = gram_schmidt(A)\n",
    "\n",
    "print(\"Matriz E:\")\n",
    "print(E)\n",
    "print(\"Matriz U:\")\n",
    "print(U)"
   ],
   "metadata": {
    "collapsed": false,
    "ExecuteTime": {
     "end_time": "2024-05-29T22:07:03.178247Z",
     "start_time": "2024-05-29T22:07:03.171754Z"
    }
   },
   "id": "5a147281b917b3e5",
   "execution_count": 78
  },
  {
   "cell_type": "markdown",
   "source": [
    "# Minimos cuadrados"
   ],
   "metadata": {
    "collapsed": false
   },
   "id": "b719a0286da0522b"
  },
  {
   "cell_type": "code",
   "outputs": [],
   "source": [
    "# solucion regresiva \n",
    "import numpy as np\n",
    "def backward_substitution(A, b):\n",
    "    \"\"\"\n",
    "    Solves the upper triangular system Ax = b using backward substitution.\n",
    "    \"\"\"\n",
    "    n = len(b)\n",
    "    x = np.zeros(n)\n",
    "    for i in range(n-1, -1, -1):\n",
    "        x[i] = (b[i] - np.dot(A[i, i+1:], x[i+1:])) / A[i, i]\n",
    "    return x\n"
   ],
   "metadata": {
    "collapsed": false,
    "ExecuteTime": {
     "end_time": "2024-05-29T20:54:07.288617Z",
     "start_time": "2024-05-29T20:54:07.284354Z"
    }
   },
   "id": "823f190f11ea16b1",
   "execution_count": 29
  },
  {
   "cell_type": "code",
   "outputs": [
    {
     "name": "stdout",
     "output_type": "stream",
     "text": [
      "6.303700697127488 0.8186512283093619\n",
      "Valores ajustados:\n",
      "[ 758.36226107 1052.18231317 1459.8400751  2025.44085582 2810.17813553\n",
      " 3592.48169369]\n"
     ]
    },
    {
     "ename": "OSError",
     "evalue": "'seaborn-dark-palette' is not a valid package style, path of style file, URL of style file, or library style name (library styles are listed in `style.available`)",
     "output_type": "error",
     "traceback": [
      "\u001B[1;31m---------------------------------------------------------------------------\u001B[0m",
      "\u001B[1;31mFileNotFoundError\u001B[0m                         Traceback (most recent call last)",
      "File \u001B[1;32m~\\PycharmProjects\\Numerico\\.venv\\Lib\\site-packages\\matplotlib\\style\\core.py:137\u001B[0m, in \u001B[0;36muse\u001B[1;34m(style)\u001B[0m\n\u001B[0;32m    136\u001B[0m \u001B[38;5;28;01mtry\u001B[39;00m:\n\u001B[1;32m--> 137\u001B[0m     style \u001B[38;5;241m=\u001B[39m \u001B[43m_rc_params_in_file\u001B[49m\u001B[43m(\u001B[49m\u001B[43mstyle\u001B[49m\u001B[43m)\u001B[49m\n\u001B[0;32m    138\u001B[0m \u001B[38;5;28;01mexcept\u001B[39;00m \u001B[38;5;167;01mOSError\u001B[39;00m \u001B[38;5;28;01mas\u001B[39;00m err:\n",
      "File \u001B[1;32m~\\PycharmProjects\\Numerico\\.venv\\Lib\\site-packages\\matplotlib\\__init__.py:879\u001B[0m, in \u001B[0;36m_rc_params_in_file\u001B[1;34m(fname, transform, fail_on_error)\u001B[0m\n\u001B[0;32m    878\u001B[0m rc_temp \u001B[38;5;241m=\u001B[39m {}\n\u001B[1;32m--> 879\u001B[0m \u001B[43m\u001B[49m\u001B[38;5;28;43;01mwith\u001B[39;49;00m\u001B[43m \u001B[49m\u001B[43m_open_file_or_url\u001B[49m\u001B[43m(\u001B[49m\u001B[43mfname\u001B[49m\u001B[43m)\u001B[49m\u001B[43m \u001B[49m\u001B[38;5;28;43;01mas\u001B[39;49;00m\u001B[43m \u001B[49m\u001B[43mfd\u001B[49m\u001B[43m:\u001B[49m\n\u001B[0;32m    880\u001B[0m \u001B[43m    \u001B[49m\u001B[38;5;28;43;01mtry\u001B[39;49;00m\u001B[43m:\u001B[49m\n",
      "File \u001B[1;32m~\\AppData\\Local\\Programs\\Python\\Python312\\Lib\\contextlib.py:137\u001B[0m, in \u001B[0;36m_GeneratorContextManager.__enter__\u001B[1;34m(self)\u001B[0m\n\u001B[0;32m    136\u001B[0m \u001B[38;5;28;01mtry\u001B[39;00m:\n\u001B[1;32m--> 137\u001B[0m     \u001B[38;5;28;01mreturn\u001B[39;00m \u001B[38;5;28;43mnext\u001B[39;49m\u001B[43m(\u001B[49m\u001B[38;5;28;43mself\u001B[39;49m\u001B[38;5;241;43m.\u001B[39;49m\u001B[43mgen\u001B[49m\u001B[43m)\u001B[49m\n\u001B[0;32m    138\u001B[0m \u001B[38;5;28;01mexcept\u001B[39;00m \u001B[38;5;167;01mStopIteration\u001B[39;00m:\n",
      "File \u001B[1;32m~\\PycharmProjects\\Numerico\\.venv\\Lib\\site-packages\\matplotlib\\__init__.py:856\u001B[0m, in \u001B[0;36m_open_file_or_url\u001B[1;34m(fname)\u001B[0m\n\u001B[0;32m    855\u001B[0m fname \u001B[38;5;241m=\u001B[39m os\u001B[38;5;241m.\u001B[39mpath\u001B[38;5;241m.\u001B[39mexpanduser(fname)\n\u001B[1;32m--> 856\u001B[0m \u001B[38;5;28;01mwith\u001B[39;00m \u001B[38;5;28;43mopen\u001B[39;49m\u001B[43m(\u001B[49m\u001B[43mfname\u001B[49m\u001B[43m,\u001B[49m\u001B[43m \u001B[49m\u001B[43mencoding\u001B[49m\u001B[38;5;241;43m=\u001B[39;49m\u001B[38;5;124;43m'\u001B[39;49m\u001B[38;5;124;43mutf-8\u001B[39;49m\u001B[38;5;124;43m'\u001B[39;49m\u001B[43m)\u001B[49m \u001B[38;5;28;01mas\u001B[39;00m f:\n\u001B[0;32m    857\u001B[0m     \u001B[38;5;28;01myield\u001B[39;00m f\n",
      "\u001B[1;31mFileNotFoundError\u001B[0m: [Errno 2] No such file or directory: 'seaborn-dark-palette'",
      "\nThe above exception was the direct cause of the following exception:\n",
      "\u001B[1;31mOSError\u001B[0m                                   Traceback (most recent call last)",
      "Cell \u001B[1;32mIn[73], line 46\u001B[0m\n\u001B[0;32m     44\u001B[0m plt\u001B[38;5;241m.\u001B[39mtext(\u001B[38;5;241m1\u001B[39m, \u001B[38;5;241m2000\u001B[39m, \u001B[38;5;124mf\u001B[39m\u001B[38;5;124m'\u001B[39m\u001B[38;5;124my = \u001B[39m\u001B[38;5;132;01m{\u001B[39;00ma\u001B[38;5;132;01m:\u001B[39;00m\u001B[38;5;124m.4f\u001B[39m\u001B[38;5;132;01m}\u001B[39;00m\u001B[38;5;124m * e^(\u001B[39m\u001B[38;5;132;01m{\u001B[39;00mb\u001B[38;5;132;01m:\u001B[39;00m\u001B[38;5;124m.4f\u001B[39m\u001B[38;5;132;01m}\u001B[39;00m\u001B[38;5;124mx)\u001B[39m\u001B[38;5;124m'\u001B[39m, fontsize\u001B[38;5;241m=\u001B[39m\u001B[38;5;241m12\u001B[39m, style\u001B[38;5;241m=\u001B[39m\u001B[38;5;124m'\u001B[39m\u001B[38;5;124mitalic\u001B[39m\u001B[38;5;124m'\u001B[39m, bbox\u001B[38;5;241m=\u001B[39m{\u001B[38;5;124m'\u001B[39m\u001B[38;5;124mfacecolor\u001B[39m\u001B[38;5;124m'\u001B[39m: \u001B[38;5;124m'\u001B[39m\u001B[38;5;124mwhite\u001B[39m\u001B[38;5;124m'\u001B[39m, \u001B[38;5;124m'\u001B[39m\u001B[38;5;124malpha\u001B[39m\u001B[38;5;124m'\u001B[39m: \u001B[38;5;241m0.5\u001B[39m, \u001B[38;5;124m'\u001B[39m\u001B[38;5;124mpad\u001B[39m\u001B[38;5;124m'\u001B[39m: \u001B[38;5;241m10\u001B[39m}, ha\u001B[38;5;241m=\u001B[39m\u001B[38;5;124m'\u001B[39m\u001B[38;5;124mcenter\u001B[39m\u001B[38;5;124m'\u001B[39m, va\u001B[38;5;241m=\u001B[39m\u001B[38;5;124m'\u001B[39m\u001B[38;5;124mcenter\u001B[39m\u001B[38;5;124m'\u001B[39m, zorder\u001B[38;5;241m=\u001B[39m\u001B[38;5;241m3\u001B[39m)\n\u001B[0;32m     45\u001B[0m \u001B[38;5;66;03m#QUIERO UN FONDO BLANCO PARA MI PLOT\u001B[39;00m\n\u001B[1;32m---> 46\u001B[0m \u001B[43mplt\u001B[49m\u001B[38;5;241;43m.\u001B[39;49m\u001B[43mstyle\u001B[49m\u001B[38;5;241;43m.\u001B[39;49m\u001B[43muse\u001B[49m\u001B[43m(\u001B[49m\u001B[38;5;124;43m'\u001B[39;49m\u001B[38;5;124;43mseaborn-dark-palette\u001B[39;49m\u001B[38;5;124;43m'\u001B[39;49m\u001B[43m)\u001B[49m\n\u001B[0;32m     48\u001B[0m plt\u001B[38;5;241m.\u001B[39mtitle(\u001B[38;5;124m'\u001B[39m\u001B[38;5;124mAjuste de Función Exponencial\u001B[39m\u001B[38;5;124m'\u001B[39m)\n\u001B[0;32m     49\u001B[0m plt\u001B[38;5;241m.\u001B[39mshow()\n",
      "File \u001B[1;32m~\\PycharmProjects\\Numerico\\.venv\\Lib\\site-packages\\matplotlib\\style\\core.py:139\u001B[0m, in \u001B[0;36muse\u001B[1;34m(style)\u001B[0m\n\u001B[0;32m    137\u001B[0m         style \u001B[38;5;241m=\u001B[39m _rc_params_in_file(style)\n\u001B[0;32m    138\u001B[0m     \u001B[38;5;28;01mexcept\u001B[39;00m \u001B[38;5;167;01mOSError\u001B[39;00m \u001B[38;5;28;01mas\u001B[39;00m err:\n\u001B[1;32m--> 139\u001B[0m         \u001B[38;5;28;01mraise\u001B[39;00m \u001B[38;5;167;01mOSError\u001B[39;00m(\n\u001B[0;32m    140\u001B[0m             \u001B[38;5;124mf\u001B[39m\u001B[38;5;124m\"\u001B[39m\u001B[38;5;132;01m{\u001B[39;00mstyle\u001B[38;5;132;01m!r}\u001B[39;00m\u001B[38;5;124m is not a valid package style, path of style \u001B[39m\u001B[38;5;124m\"\u001B[39m\n\u001B[0;32m    141\u001B[0m             \u001B[38;5;124mf\u001B[39m\u001B[38;5;124m\"\u001B[39m\u001B[38;5;124mfile, URL of style file, or library style name (library \u001B[39m\u001B[38;5;124m\"\u001B[39m\n\u001B[0;32m    142\u001B[0m             \u001B[38;5;124mf\u001B[39m\u001B[38;5;124m\"\u001B[39m\u001B[38;5;124mstyles are listed in `style.available`)\u001B[39m\u001B[38;5;124m\"\u001B[39m) \u001B[38;5;28;01mfrom\u001B[39;00m \u001B[38;5;21;01merr\u001B[39;00m\n\u001B[0;32m    143\u001B[0m filtered \u001B[38;5;241m=\u001B[39m {}\n\u001B[0;32m    144\u001B[0m \u001B[38;5;28;01mfor\u001B[39;00m k \u001B[38;5;129;01min\u001B[39;00m style:  \u001B[38;5;66;03m# don't trigger RcParams.__getitem__('backend')\u001B[39;00m\n",
      "\u001B[1;31mOSError\u001B[0m: 'seaborn-dark-palette' is not a valid package style, path of style file, URL of style file, or library style name (library styles are listed in `style.available`)"
     ]
    },
    {
     "data": {
      "text/plain": "<Figure size 640x480 with 1 Axes>",
      "image/png": "[encoded data removed]"
     },
     "metadata": {},
     "output_type": "display_data"
    }
   ],
   "source": [
    "import numpy as np\n",
    "\n",
    "x = np.array([0.4, 0.8, 1.2, 1.6, 2.0, 2.3], dtype=float)\n",
    "y = np.array([800, 975, 1500, 1950, 2900, 3600], dtype=float)\n",
    "\n",
    "# Calcular los logaritmos naturales de y\n",
    "Y = np.log(y)\n",
    "\n",
    "# Calcular la matriz X\n",
    "X = np.vstack([np.ones(len(x)), x]).T\n",
    "\n",
    "# Multiplicar por X.T\n",
    "Yn = X.T@Y\n",
    "Xn = X.T@X\n",
    "\n",
    "\n",
    "# Resolver el sistema de ecuaciones\n",
    "A, b = gauss(Xn, Yn)\n",
    "print(A, b)\n",
    "a = np.exp(A)\n",
    "\n",
    "# Función exponencial resultante\n",
    "def exponential(x):\n",
    "    return a * np.exp(b * x)\n",
    "\n",
    "# Valores ajustados\n",
    "y_fit = exponential(x)\n",
    "\n",
    "# Imprimir los valores ajustados\n",
    "print(\"Valores ajustados:\")\n",
    "print(y_fit)\n",
    "\n",
    "# Visualización del ajuste\n",
    "import matplotlib.pyplot as plt\n",
    "\n",
    "plt.scatter(x, y, label='Datos originales')\n",
    "x_vals = np.linspace(min(x), max(x), 100)\n",
    "y_vals = exponential(x_vals)\n",
    "plt.plot(x_vals, y_vals, label='Función exponencial ajustada', color='red')\n",
    "plt.xlabel('x')\n",
    "plt.ylabel('y')\n",
    "plt.legend()\n",
    "#Escribir la funcion en el plot, con formato 4 decimales\n",
    "plt.text(1, 2000, f'y = {a:.4f} * e^({b:.4f}x)', fontsize=12, style='italic', bbox={'facecolor': 'white', 'alpha': 0.5, 'pad': 10}, ha='center', va='center', zorder=3)\n",
    "#QUIERO UN FONDO BLANCO PARA MI PLOT\n",
    "plt.style.use('seaborn-dark-palette')\n",
    "\n",
    "plt.title('Ajuste de Función Exponencial')\n",
    "plt.show()\n"
   ],
   "metadata": {
    "collapsed": false,
    "ExecuteTime": {
     "end_time": "2024-05-29T21:27:39.889906Z",
     "start_time": "2024-05-29T21:27:39.583235Z"
    }
   },
   "id": "873136c55bd6c2ec",
   "execution_count": 73
  },
  {
   "cell_type": "code",
   "outputs": [
    {
     "name": "stdout",
     "output_type": "stream",
     "text": [
      "0.8186512283093628\n",
      "Coeficientes de la función exponencial: a = 546.5909394331802, b = 0.8186512283093628\n",
      "Valores ajustados:\n",
      "[ 758.36226107 1052.18231317 1459.8400751  2025.44085582 2810.17813553\n",
      " 3592.48169369]\n"
     ]
    },
    {
     "data": {
      "text/plain": "<Figure size 640x480 with 1 Axes>",
      "image/png": "[encoded data removed]"
     },
     "metadata": {},
     "output_type": "display_data"
    }
   ],
   "source": [
    "import numpy as np\n",
    "\n",
    "# Datos proporcionados\n",
    "x = np.array([0.4, 0.8, 1.2, 1.6, 2, 2.3], dtype=float)\n",
    "y = np.array([800, 975, 1500, 1950, 2900, 3600], dtype=float)\n",
    "\n",
    "# Transformar y a ln(y)\n",
    "Y = np.log(y)\n",
    "\n",
    "# Construcción de la matriz de diseño A\n",
    "A_matrix = np.vstack([np.ones(len(x)), x]).T\n",
    "\n",
    "# Resolución del sistema A_matrix.T * A_matrix * coef = A_matrix.T * Y\n",
    "coef = np.linalg.lstsq(A_matrix, Y, rcond=None)[0]\n",
    "\n",
    "# Coeficientes del ajuste\n",
    "A = coef[0]\n",
    "\n",
    "b = coef[1]\n",
    "\n",
    "a = np.exp(A)\n",
    "\n",
    "print(f\"Coeficientes de la función exponencial: a = {a}, b = {b}\")\n",
    "\n",
    "# Función exponencial resultante\n",
    "def exponential(x):\n",
    "    return a * np.exp(b * x)\n",
    "\n",
    "# Valores ajustados\n",
    "y_fit = exponential(x)\n",
    "\n",
    "# Imprimir los valores ajustados\n",
    "print(\"Valores ajustados:\")\n",
    "print(y_fit)\n",
    "\n",
    "# Visualización del ajuste\n",
    "import matplotlib.pyplot as plt\n",
    "\n",
    "plt.scatter(x, y, label='Datos originales')\n",
    "x_vals = np.linspace(min(x), max(x), 100)\n",
    "y_vals = exponential(x_vals)\n",
    "plt.plot(x_vals, y_vals, label='Función exponencial ajustada', color='red')\n",
    "plt.xlabel('x')\n",
    "plt.ylabel('y')\n",
    "plt.legend()\n",
    "plt.title('Ajuste de Función Exponencial')\n",
    "plt.show()\n"
   ],
   "metadata": {
    "collapsed": false,
    "ExecuteTime": {
     "end_time": "2024-05-29T21:07:24.084567Z",
     "start_time": "2024-05-29T21:07:23.949836Z"
    }
   },
   "id": "2bd92f5770f47daf",
   "execution_count": 49
  },
  {
   "cell_type": "code",
   "outputs": [
    {
     "name": "stdout",
     "output_type": "stream",
     "text": [
      "Coeficientes de la recta: a = 1.6999999999999997, b = 1.267498902617925e-16\n"
     ]
    },
    {
     "data": {
      "text/plain": "<Figure size 640x480 with 1 Axes>",
      "image/png": "[encoded data removed]"
     },
     "metadata": {},
     "output_type": "display_data"
    }
   ],
   "source": [
    "import numpy as np\n",
    "\n",
    "def least_squares_fit(x, y):\n",
    "    A = np.vstack([x, np.ones(len(x))]).T\n",
    "    b = y\n",
    "    coefficients = np.linalg.lstsq(A, b, rcond=None)[0]\n",
    "    return coefficients\n",
    "\n",
    "# Datos\n",
    "x = np.array([1, 2, 3, 4])\n",
    "y = np.array([2, 3, 5, 7])\n",
    "\n",
    "\n",
    "\n",
    "# Calcular los coeficientes de la recta\n",
    "a, b = least_squares_fit(x, y)\n",
    "\n",
    "print(f\"Coeficientes de la recta: a = {a}, b = {b}\")\n",
    "import matplotlib.pyplot as plt\n",
    "plt.plot(x, y, 'o', label='Original data', markersize=10)\n",
    "plt.plot(x, a*x + b, 'r', label='Fitted line')\n",
    "plt.legend()\n",
    "plt.show()\n",
    "\n"
   ],
   "metadata": {
    "collapsed": false,
    "ExecuteTime": {
     "end_time": "2024-05-29T03:21:13.572990Z",
     "start_time": "2024-05-29T03:21:12.334503Z"
    }
   },
   "id": "4f4d3d9efa669681",
   "execution_count": 55
  },
  {
   "cell_type": "code",
   "outputs": [
    {
     "name": "stdout",
     "output_type": "stream",
     "text": [
      "Coeficientes de la recta: a = 1.7, b = 0.0\n"
     ]
    },
    {
     "data": {
      "text/plain": "<Figure size 640x480 with 1 Axes>",
      "image/png": "[encoded data removed]"
     },
     "metadata": {},
     "output_type": "display_data"
    }
   ],
   "source": [
    "# regresion lineal\n",
    "\n",
    "import numpy as np\n",
    "\n",
    "def linear_regression(x, y):\n",
    "    n = len(x)\n",
    "    sum_x = np.sum(x)\n",
    "    sum_y = np.sum(y)\n",
    "    sum_x2 = np.sum(x**2)\n",
    "    sum_xy = np.sum(x * y)\n",
    "    a = (n * sum_xy - sum_x * sum_y) / (n * sum_x2 - sum_x**2)\n",
    "    b = (sum_y - a * sum_x) / n\n",
    "    return a, b\n",
    "\n",
    "# Datos\n",
    "x = np.array([1, 2, 3, 4])\n",
    "y = np.array([2, 3, 5, 7])\n",
    "\n",
    "# Calcular los coeficientes de la recta\n",
    "a, b = linear_regression(x, y)\n",
    "\n",
    "print(f\"Coeficientes de la recta: a = {a}, b = {b}\")\n",
    "\n",
    "\n",
    "import matplotlib.pyplot as plt\n",
    "plt.plot(x, y, 'o', label='Original data', markersize=10)\n",
    "plt.plot(x, a*x + b, 'r', label='Fitted line')\n",
    "plt.legend()\n",
    "plt.show()\n",
    "\n"
   ],
   "metadata": {
    "collapsed": false,
    "ExecuteTime": {
     "end_time": "2024-05-29T03:21:33.284915Z",
     "start_time": "2024-05-29T03:21:33.166981Z"
    }
   },
   "id": "fba3582d4cedf924",
   "execution_count": 56
  }
 ],
 "metadata": {
  "kernelspec": {
   "display_name": "Python 3",
   "language": "python",
   "name": "python3"
  },
  "language_info": {
   "codemirror_mode": {
    "name": "ipython",
    "version": 2
   },
   "file_extension": ".py",
   "mimetype": "text/x-python",
   "name": "python",
   "nbconvert_exporter": "python",
   "pygments_lexer": "ipython2",
   "version": "2.7.6"
  }
 },
 "nbformat": 4,
 "nbformat_minor": 5
}
