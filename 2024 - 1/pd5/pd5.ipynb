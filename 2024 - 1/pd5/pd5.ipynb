{
 "cells": [
  {
   "cell_type": "code",
   "execution_count": 8,
   "id": "initial_id",
   "metadata": {
    "collapsed": true,
    "ExecuteTime": {
     "end_time": "2024-05-29T22:41:14.281397Z",
     "start_time": "2024-05-29T22:41:14.269726Z"
    }
   },
   "outputs": [
    {
     "data": {
      "text/plain": "array([[ 0.00000000e+00,  1.10803324e-02, -9.33080624e-03,\n         9.94467507e-03, -1.32337197e-02,  2.12558460e-02,\n        -4.00860732e-02,  8.68951381e-02, -2.12959704e-01,\n         5.82356653e-01],\n       [ 1.05263158e-01,  0.00000000e+00, -1.16635078e-03,\n         1.96438026e-03, -3.14042371e-03,  5.57209249e-03,\n        -1.11872874e-02,  2.53175199e-02, -6.40279965e-02,\n         1.79334488e-01],\n       [ 2.10526316e-01,  1.10803324e-02,  0.00000000e+00,\n         1.22773766e-04, -4.13553739e-04,  9.91712750e-04,\n        -2.34614420e-03,  5.88804597e-03, -1.59900126e-02,\n         4.71785237e-02],\n       [ 3.15789474e-01,  4.43213296e-02,  1.16635078e-03,\n         0.00000000e+00, -1.29235543e-05,  8.70639451e-05,\n        -3.13172447e-04,  9.87850191e-04, -3.09897157e-03,\n         1.00989553e-02],\n       [ 4.21052632e-01,  9.97229917e-02,  9.33080624e-03,\n         1.22773766e-04,  0.00000000e+00,  1.36037414e-06,\n        -1.83292516e-05,  9.88965623e-05, -4.15936923e-04,\n         1.63103767e-03],\n       [ 5.26315789e-01,  1.77285319e-01,  3.14914711e-02,\n         1.96438026e-03,  1.29235543e-05,  0.00000000e+00,\n        -1.43197278e-07,  3.85878981e-06, -3.12304934e-05,\n         1.75131336e-04],\n       [ 6.31578947e-01,  2.77008310e-01,  7.46464499e-02,\n         9.94467507e-03,  4.13553739e-04,  1.36037414e-06,\n         0.00000000e+00,  1.50733977e-08, -8.12376802e-07,\n         9.86226106e-06],\n       [ 7.36842105e-01,  3.98891967e-01,  1.45793847e-01,\n         3.14300842e-02,  3.14042371e-03,  8.70639451e-05,\n         1.43197278e-07,  0.00000000e+00, -1.58667344e-09,\n         1.71026695e-07],\n       [ 8.42105263e-01,  5.42936288e-01,  2.51931768e-01,\n         7.67336039e-02,  1.32337197e-02,  9.91712750e-04,\n         1.83292516e-05,  1.50733977e-08,  0.00000000e+00,\n         1.67018257e-10],\n       [ 9.47368421e-01,  7.09141274e-01,  4.00058318e-01,\n         1.59114801e-01,  4.03861073e-02,  5.57209249e-03,\n         3.13172447e-04,  3.85878981e-06,  1.58667344e-09,\n         0.00000000e+00],\n       [ 1.05263158e+00,  8.97506925e-01,  5.97171599e-01,\n         2.94779813e-01,  1.00493559e-01,  2.12558460e-02,\n         2.34614420e-03,  9.88965623e-05,  8.12376802e-07,\n         1.67018257e-10],\n       [ 1.15789474e+00,  1.10803324e+00,  8.50269719e-01,\n         5.02881347e-01,  2.17206178e-01,  6.34696160e-02,\n         1.11872874e-02,  9.87850191e-04,  3.12304934e-05,\n         1.71026695e-07],\n       [ 1.26315789e+00,  1.34072022e+00,  1.16635078e+00,\n         8.05518681e-01,  4.23479029e-01,  1.60046657e-01,\n         4.00860732e-02,  5.88804597e-03,  4.15936923e-04,\n         9.86226106e-06],\n       [ 1.36842105e+00,  1.59556787e+00,  1.55241289e+00,\n         1.22773766e+00,  7.63122961e-01,  3.56613919e-01,\n         1.17929116e-01,  2.53175199e-02,  3.09897157e-03,\n         1.75131336e-04],\n       [ 1.47368421e+00,  1.87257618e+00,  2.01545415e+00,\n         1.79753071e+00,  1.29235543e+00,  7.22958594e-01,\n         3.00306458e-01,  8.68951381e-02,  1.59900126e-02,\n         1.63103767e-03],\n       [ 1.57894737e+00,  2.17174515e+00,  2.56247266e+00,\n         2.54583682e+00,  2.08135135e+00,  1.36037414e+00,\n         6.84908142e-01,  2.52889649e-01,  6.40279965e-02,\n         1.00989553e-02],\n       [ 1.68421053e+00,  2.49307479e+00,  3.20046654e+00,\n         3.50654154e+00,  3.21579388e+00,  2.40998578e+00,\n         1.43197278e+00,  6.48860345e-01,  2.12959704e-01,\n         4.71785237e-02],\n       [ 1.78947368e+00,  2.83656510e+00,  3.93643388e+00,\n         4.71647701e+00,  4.79842526e+00,  4.06205542e+00,\n         2.79050985e+00,  1.50733977e+00,  6.14709801e-01,\n         1.79334488e-01],\n       [ 1.89473684e+00,  3.20221607e+00,  4.77737279e+00,\n         6.21542192e+00,  6.95059769e+00,  6.56626615e+00,\n         5.13101738e+00,  3.23111666e+00,  1.58667344e+00,\n         5.82356653e-01],\n       [ 2.00000000e+00,  3.59002770e+00,  5.73028138e+00,\n         8.04610155e+00,  9.81382408e+00,  1.02429861e+01,\n         8.98541684e+00,  6.48128511e+00,  3.74129298e+00,\n         1.67018257e+00]])"
     },
     "execution_count": 8,
     "metadata": {},
     "output_type": "execute_result"
    }
   ],
   "source": [
    "# PROBLEMA 2\n",
    "import numpy as np\n",
    "\n",
    "# Números generados aleatoriamente entre [0, 1]\n",
    "A_random = np.random.rand(20, 10)\n",
    "\n",
    "# Matriz generada por la función elemental\n",
    "A_functional = np.zeros((20, 10))\n",
    "for i in range(20):\n",
    "    for j in range(10):\n",
    "        A_functional[i, j] = ((2 * (i + 1) - 2 * (j + 1)) / 19) ** (j + 1)\n",
    "\n",
    "\n",
    "\n",
    "def gram_schmidt(A):\n",
    "    m, n = A.shape\n",
    "    U = np.zeros((n, n), dtype=float)\n",
    "    E = np.zeros((m, n), dtype=float)\n",
    "    E[:, 0] = A[:, 0] \n",
    "\n",
    "    for j in range(n):\n",
    "        for i in range(j):\n",
    "            U[i, j] = np.dot(E[:, i].T, A[:, j])\n",
    "            E[:, j] -= U[i, j] * E[:, i]\n",
    "        \n",
    "        U[j, j] = np.sqrt(np.sum(E[:, j]**2))\n",
    "        E[:, j] /= U[j, j]\n",
    "    \n",
    "    return E, U\n",
    "\n",
    "\n",
    "def gram_schmid_modified(A):\n",
    "    m, n = A.shape\n",
    "    U = np.zeros((n, n), dtype=float)\n",
    "    E = np.zeros((m, n), dtype=float)\n",
    "    E[:, 0] = A[:, 0] \n",
    "\n",
    "    for j in range(n):  \n",
    "        E[:, j] = A[:, j]\n",
    "        for i in range(j):\n",
    "            U[i, j] = np.dot(E[:, i].T, E[:, j])\n",
    "            E[:, j] -= U[i, j] * E[:, i]\n",
    "        \n",
    "        U[j, j] = np.sqrt(np.sum(E[:, j]**2))\n",
    "        E[:, j] /= U[j, j]\n",
    "    \n",
    "    return E, U\n",
    "\n",
    "E, U = gram_schmidt(A_random)\n",
    "E_mod, U_mod = gram_schmid_modified(A_random)\n",
    "\n",
    "A_functional"
   ]
  },
  {
   "cell_type": "code",
   "outputs": [
    {
     "name": "stdout",
     "output_type": "stream",
     "text": [
      "Matriz aleatoria:\n",
      "Norma de la diferencia con la identidad (Gram-Schmidt clásico): 9.486832980505138\n",
      "Norma de la diferencia con la identidad (Gram-Schmidt modificado): 1.773816546022017e-15\n",
      "\n",
      "Matriz generada por la función elemental:\n",
      "Norma de la diferencia con la identidad (Gram-Schmidt clásico): 9.48683298050514\n",
      "Norma de la diferencia con la identidad (Gram-Schmidt modificado): 7.247190387592559e-13\n"
     ]
    }
   ],
   "source": [
    "def compare_orthogonality(A):\n",
    "    Q_classic, _ = gram_schmidt(A)\n",
    "    Q_modified, _ = gram_schmid_modified(A)\n",
    "    \n",
    "    identity = np.eye(Q_classic.shape[1])\n",
    "    \n",
    "    # Calcular BT@B\n",
    "    BTB_classic = np.dot(Q_classic.T, Q_classic)\n",
    "    BTB_modified = np.dot(Q_modified.T, Q_modified)\n",
    "    \n",
    "    print(\"Norma de la diferencia con la identidad (Gram-Schmidt clásico):\", np.linalg.norm(BTB_classic - identity))\n",
    "    print(\"Norma de la diferencia con la identidad (Gram-Schmidt modificado):\", np.linalg.norm(BTB_modified - identity))\n",
    "\n",
    "# Comparar ortogonalidad para matrices generadas\n",
    "print(\"Matriz aleatoria:\")\n",
    "compare_orthogonality(A_random)\n",
    "\n",
    "print(\"\\nMatriz generada por la función elemental:\")\n",
    "compare_orthogonality(A_functional)\n"
   ],
   "metadata": {
    "collapsed": false,
    "ExecuteTime": {
     "end_time": "2024-05-29T22:41:59.855755Z",
     "start_time": "2024-05-29T22:41:59.842912Z"
    }
   },
   "id": "f7d3cca0fdbe6c71",
   "execution_count": 9
  }
 ],
 "metadata": {
  "kernelspec": {
   "display_name": "Python 3",
   "language": "python",
   "name": "python3"
  },
  "language_info": {
   "codemirror_mode": {
    "name": "ipython",
    "version": 2
   },
   "file_extension": ".py",
   "mimetype": "text/x-python",
   "name": "python",
   "nbconvert_exporter": "python",
   "pygments_lexer": "ipython2",
   "version": "2.7.6"
  }
 },
 "nbformat": 4,
 "nbformat_minor": 5
}
